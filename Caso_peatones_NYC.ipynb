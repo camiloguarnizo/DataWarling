{
  "cells": [
    {
      "cell_type": "markdown",
      "metadata": {
        "id": "AJPtp7-IIBHf"
      },
      "source": [
        "# ¿Cómo podemos controlar el creciente número de accidentes en Nueva York?"
      ]
    },
    {
      "cell_type": "code",
      "execution_count": 1,
      "metadata": {
        "id": "DdmTn2mLIBHi"
      },
      "outputs": [],
      "source": [
        "import json\n",
        "import requests\n",
        "from bs4 import BeautifulSoup\n",
        "import pandas as pd\n",
        "import matplotlib.pyplot as plt\n",
        "import seaborn as sns\n",
        "import numpy"
      ]
    },
    {
      "cell_type": "markdown",
      "metadata": {
        "id": "JCYYRU_HIBHk"
      },
      "source": [
        "## Introduccion"
      ]
    },
    {
      "cell_type": "markdown",
      "metadata": {
        "id": "6VBUVAabIBHl"
      },
      "source": [
        "**Contexto empresarial.** La ciudad de Nueva York ha experimentado un aumento en el número de accidentes en las carreteras de la ciudad. Quieren saber si el número de accidentes ha aumentado en las últimas semanas. Para todos los accidentes reportados, han recopilado detalles para cada accidente y han estado manteniendo registros durante el último año y medio (desde enero de 2018 hasta agosto de 2019).\n",
        "\n",
        "La ciudad te ha contratado para que construyas visualizaciones que les ayuden a identificar patrones en accidentes, lo que les ayudaría a tomar acciones preventivas para reducir la cantidad de accidentes en el futuro. Tienen ciertos parámetros como municipio, hora del día, motivo del accidente, etc. De los que se preocupan y de los que les gustaría obtener información específica."
      ]
    },
    {
      "cell_type": "markdown",
      "metadata": {
        "id": "Q1Z9vDJIIBHm"
      },
      "source": [
        "**Problema comercial.** Su tarea es formatear los datos proporcionados y proporcionar visualizaciones que respondan las preguntas específicas que tiene el cliente, que se mencionan a continuación."
      ]
    },
    {
      "cell_type": "markdown",
      "metadata": {
        "id": "W3-tsbGYIBHm"
      },
      "source": [
        "**Contexto analítico.** Se le proporciona un archivo CSV (almacenado en la carpeta ```datos``` ya creada) que contiene detalles sobre cada accidente, como fecha, hora, ubicación del accidente, motivo del accidente, tipos de vehículos involucrados, recuento de lesiones y muertes, etc. El delimitador en el archivo CSV dado es `;` en lugar del predeterminado `,`. Realizará las siguientes tareas con los datos:\n",
        "\n",
        "1. Extraiga datos adicionales del municipio almacenados en un archivo JSON\n",
        "2. Leer, transformar y preparar datos para su visualización\n",
        "3. Realizar análisis y construir visualizaciones de los datos para identificar patrones en el conjunto de datos.\n",
        "        \n",
        "El cliente tiene un conjunto específico de preguntas a las que le gustaría obtener respuestas. Deberá proporcionar visualizaciones para acompañar estos:\n",
        "\n",
        "1. ¿Cómo ha fluctuado el número de accidentes durante el último año y medio? ¿Han aumentado con el tiempo?\n",
        "2. Para un día en particular, ¿durante qué horas es más probable que ocurran accidentes?\n",
        "3. ¿Hay más accidentes entre semana que durante los fines de semana?\n",
        "4. ¿Cuál es la proporción de recuento de accidentes por área por municipio? ¿Qué distritos tienen un número desproporcionadamente grande de accidentes para su tamaño?\n",
        "5. Para cada municipio, ¿durante qué horas es más probable que ocurran accidentes?\n",
        "6. ¿Cuáles son las 5 principales causas de accidentes en la ciudad?\n",
        "7. ¿Qué tipos de vehículos están más involucrados en accidentes por municipio?\n",
        "8. ¿Qué tipos de vehículos están más involucrados en las muertes?"
      ]
    },
    {
      "cell_type": "markdown",
      "metadata": {
        "id": "EJyI_ShBIBHn"
      },
      "source": [
        "## Obteniendo los datos relevantes"
      ]
    },
    {
      "cell_type": "markdown",
      "metadata": {
        "id": "D4fMrX8TIBHo"
      },
      "source": [
        "El cliente ha solicitado un análisis de la relación accidentes-área de los distritos. Los datos del municipio se almacenan en un archivo JSON en la carpeta ```datos```."
      ]
    },
    {
      "cell_type": "markdown",
      "metadata": {
        "id": "mVz1ozJ_IBHp"
      },
      "source": [
        "### Question (5 min):\n",
        "\n",
        "Utilice la función ```json.load()``` para cargar el archivo ```borough_data.json``` como diccionario."
      ]
    },
    {
      "cell_type": "markdown",
      "metadata": {
        "id": "ZMsuF4aWIBHr"
      },
      "source": [
        "**Answer.** "
      ]
    },
    {
      "cell_type": "code",
      "execution_count": 3,
      "metadata": {
        "id": "bStj0wTVIBHr",
        "outputId": "b2d33b5f-15e9-4d78-ac4f-5fc686158310"
      },
      "outputs": [
        {
          "data": {
            "text/plain": [
              "{'the bronx': {'name': 'the bronx', 'population': 1471160.0, 'area': 42.1},\n",
              " 'brooklyn': {'name': 'brooklyn', 'population': 2648771.0, 'area': 70.82},\n",
              " 'manhattan': {'name': 'manhattan', 'population': 1664727.0, 'area': 22.83},\n",
              " 'queens': {'name': 'queens', 'population': 2358582.0, 'area': 108.53},\n",
              " 'staten island': {'name': 'staten island',\n",
              "  'population': 479458.0,\n",
              "  'area': 58.37}}"
            ]
          },
          "execution_count": 3,
          "metadata": {},
          "output_type": "execute_result"
        }
      ],
      "source": [
        "with open('borough_data.json') as f:\n",
        "    borough_data=json.load(f)\n",
        "    \n",
        "borough_data"
      ]
    },
    {
      "cell_type": "markdown",
      "metadata": {
        "id": "CAaOsDx_IBHt"
      },
      "source": [
        "### Question (5 min):\n",
        "De manera similar, use la función pandas ```read_csv()``` para cargar el archivo ```accidentes.csv``` como un DataFrame. Nombra este DataFrame ```df```.\n"
      ]
    },
    {
      "cell_type": "markdown",
      "metadata": {
        "id": "YaAJmriPIBHv"
      },
      "source": [
        "**Answer.** "
      ]
    },
    {
      "cell_type": "code",
      "execution_count": 5,
      "metadata": {
        "id": "kIlIGoe2IBHv",
        "outputId": "42a8314f-a394-4709-de8e-9f1db1285236"
      },
      "outputs": [
        {
          "data": {
            "text/plain": [
              "pandas.core.frame.DataFrame"
            ]
          },
          "execution_count": 5,
          "metadata": {},
          "output_type": "execute_result"
        }
      ],
      "source": [
        "with open('accidents.csv') as f:\n",
        "    df=pd.read_csv(f, delimiter=';')\n",
        "type(df)"
      ]
    },
    {
      "cell_type": "code",
      "execution_count": 6,
      "metadata": {
        "id": "kiS6urQUIBHw",
        "outputId": "6e5d17ae-c020-4a0b-b5bb-26450446b169"
      },
      "outputs": [
        {
          "data": {
            "text/plain": [
              "pandas.core.frame.DataFrame"
            ]
          },
          "execution_count": 6,
          "metadata": {},
          "output_type": "execute_result"
        }
      ],
      "source": [
        "df=pd.read_csv('accidents.csv',delimiter=\";\")\n",
        "type(df)"
      ]
    },
    {
      "cell_type": "markdown",
      "metadata": {
        "id": "KiGGjHcXIBHw"
      },
      "source": [
        "## Overview de la data"
      ]
    },
    {
      "cell_type": "markdown",
      "metadata": {
        "id": "-Nrl4SWlIBHw"
      },
      "source": [
        "Analizemos las columnas presentes en el data frame"
      ]
    },
    {
      "cell_type": "code",
      "execution_count": 7,
      "metadata": {
        "id": "xkCWqML9IBHx",
        "outputId": "b06c8314-23f8-4733-884a-d37c86278543"
      },
      "outputs": [
        {
          "data": {
            "text/html": [
              "<div>\n",
              "<style scoped>\n",
              "    .dataframe tbody tr th:only-of-type {\n",
              "        vertical-align: middle;\n",
              "    }\n",
              "\n",
              "    .dataframe tbody tr th {\n",
              "        vertical-align: top;\n",
              "    }\n",
              "\n",
              "    .dataframe thead th {\n",
              "        text-align: right;\n",
              "    }\n",
              "</style>\n",
              "<table border=\"1\" class=\"dataframe\">\n",
              "  <thead>\n",
              "    <tr style=\"text-align: right;\">\n",
              "      <th></th>\n",
              "      <th>DATE</th>\n",
              "      <th>TIME</th>\n",
              "      <th>BOROUGH</th>\n",
              "      <th>ZIP CODE</th>\n",
              "      <th>LATITUDE</th>\n",
              "      <th>LONGITUDE</th>\n",
              "      <th>ON STREET NAME</th>\n",
              "      <th>NUMBER OF PEDESTRIANS INJURED</th>\n",
              "      <th>NUMBER OF PEDESTRIANS KILLED</th>\n",
              "      <th>NUMBER OF CYCLIST INJURED</th>\n",
              "      <th>...</th>\n",
              "      <th>CONTRIBUTING FACTOR VEHICLE 2</th>\n",
              "      <th>CONTRIBUTING FACTOR VEHICLE 3</th>\n",
              "      <th>CONTRIBUTING FACTOR VEHICLE 4</th>\n",
              "      <th>CONTRIBUTING FACTOR VEHICLE 5</th>\n",
              "      <th>COLLISION_ID</th>\n",
              "      <th>VEHICLE TYPE CODE 1</th>\n",
              "      <th>VEHICLE TYPE CODE 2</th>\n",
              "      <th>VEHICLE TYPE CODE 3</th>\n",
              "      <th>VEHICLE TYPE CODE 4</th>\n",
              "      <th>VEHICLE TYPE CODE 5</th>\n",
              "    </tr>\n",
              "  </thead>\n",
              "  <tbody>\n",
              "    <tr>\n",
              "      <th>0</th>\n",
              "      <td>09/26/2018</td>\n",
              "      <td>12:12</td>\n",
              "      <td>BRONX</td>\n",
              "      <td>10454.0</td>\n",
              "      <td>40.808987</td>\n",
              "      <td>-73.911316</td>\n",
              "      <td>NaN</td>\n",
              "      <td>0</td>\n",
              "      <td>0</td>\n",
              "      <td>0</td>\n",
              "      <td>...</td>\n",
              "      <td>NaN</td>\n",
              "      <td>NaN</td>\n",
              "      <td>NaN</td>\n",
              "      <td>NaN</td>\n",
              "      <td>3988123</td>\n",
              "      <td>Sedan</td>\n",
              "      <td>NaN</td>\n",
              "      <td>NaN</td>\n",
              "      <td>NaN</td>\n",
              "      <td>NaN</td>\n",
              "    </tr>\n",
              "    <tr>\n",
              "      <th>1</th>\n",
              "      <td>09/25/2018</td>\n",
              "      <td>16:30</td>\n",
              "      <td>BROOKLYN</td>\n",
              "      <td>11236.0</td>\n",
              "      <td>40.636005</td>\n",
              "      <td>-73.912510</td>\n",
              "      <td>FLATLANDS AVENUE</td>\n",
              "      <td>1</td>\n",
              "      <td>0</td>\n",
              "      <td>0</td>\n",
              "      <td>...</td>\n",
              "      <td>NaN</td>\n",
              "      <td>NaN</td>\n",
              "      <td>NaN</td>\n",
              "      <td>NaN</td>\n",
              "      <td>3987962</td>\n",
              "      <td>Sedan</td>\n",
              "      <td>NaN</td>\n",
              "      <td>NaN</td>\n",
              "      <td>NaN</td>\n",
              "      <td>NaN</td>\n",
              "    </tr>\n",
              "    <tr>\n",
              "      <th>2</th>\n",
              "      <td>08/22/2019</td>\n",
              "      <td>19:30</td>\n",
              "      <td>QUEENS</td>\n",
              "      <td>11101.0</td>\n",
              "      <td>40.755490</td>\n",
              "      <td>-73.939530</td>\n",
              "      <td>NaN</td>\n",
              "      <td>0</td>\n",
              "      <td>0</td>\n",
              "      <td>0</td>\n",
              "      <td>...</td>\n",
              "      <td>NaN</td>\n",
              "      <td>NaN</td>\n",
              "      <td>NaN</td>\n",
              "      <td>NaN</td>\n",
              "      <td>4193132</td>\n",
              "      <td>Sedan</td>\n",
              "      <td>NaN</td>\n",
              "      <td>NaN</td>\n",
              "      <td>NaN</td>\n",
              "      <td>NaN</td>\n",
              "    </tr>\n",
              "    <tr>\n",
              "      <th>3</th>\n",
              "      <td>09/23/2018</td>\n",
              "      <td>13:10</td>\n",
              "      <td>QUEENS</td>\n",
              "      <td>11367.0</td>\n",
              "      <td>NaN</td>\n",
              "      <td>NaN</td>\n",
              "      <td>MAIN STREET</td>\n",
              "      <td>0</td>\n",
              "      <td>0</td>\n",
              "      <td>1</td>\n",
              "      <td>...</td>\n",
              "      <td>Unspecified</td>\n",
              "      <td>NaN</td>\n",
              "      <td>NaN</td>\n",
              "      <td>NaN</td>\n",
              "      <td>3985962</td>\n",
              "      <td>Bike</td>\n",
              "      <td>Station Wagon/Sport Utility Vehicle</td>\n",
              "      <td>NaN</td>\n",
              "      <td>NaN</td>\n",
              "      <td>NaN</td>\n",
              "    </tr>\n",
              "    <tr>\n",
              "      <th>4</th>\n",
              "      <td>08/20/2019</td>\n",
              "      <td>22:40</td>\n",
              "      <td>BRONX</td>\n",
              "      <td>10468.0</td>\n",
              "      <td>40.868336</td>\n",
              "      <td>-73.901270</td>\n",
              "      <td>NaN</td>\n",
              "      <td>0</td>\n",
              "      <td>0</td>\n",
              "      <td>0</td>\n",
              "      <td>...</td>\n",
              "      <td>Unspecified</td>\n",
              "      <td>NaN</td>\n",
              "      <td>NaN</td>\n",
              "      <td>NaN</td>\n",
              "      <td>4192111</td>\n",
              "      <td>Sedan</td>\n",
              "      <td>Sedan</td>\n",
              "      <td>NaN</td>\n",
              "      <td>NaN</td>\n",
              "      <td>NaN</td>\n",
              "    </tr>\n",
              "  </tbody>\n",
              "</table>\n",
              "<p>5 rows × 24 columns</p>\n",
              "</div>"
            ],
            "text/plain": [
              "         DATE   TIME   BOROUGH  ZIP CODE   LATITUDE  LONGITUDE  \\\n",
              "0  09/26/2018  12:12     BRONX   10454.0  40.808987 -73.911316   \n",
              "1  09/25/2018  16:30  BROOKLYN   11236.0  40.636005 -73.912510   \n",
              "2  08/22/2019  19:30    QUEENS   11101.0  40.755490 -73.939530   \n",
              "3  09/23/2018  13:10    QUEENS   11367.0        NaN        NaN   \n",
              "4  08/20/2019  22:40     BRONX   10468.0  40.868336 -73.901270   \n",
              "\n",
              "                     ON STREET NAME  NUMBER OF PEDESTRIANS INJURED  \\\n",
              "0                               NaN                              0   \n",
              "1  FLATLANDS AVENUE                                              1   \n",
              "2                               NaN                              0   \n",
              "3  MAIN STREET                                                   0   \n",
              "4                               NaN                              0   \n",
              "\n",
              "   NUMBER OF PEDESTRIANS KILLED  NUMBER OF CYCLIST INJURED  ...  \\\n",
              "0                             0                          0  ...   \n",
              "1                             0                          0  ...   \n",
              "2                             0                          0  ...   \n",
              "3                             0                          1  ...   \n",
              "4                             0                          0  ...   \n",
              "\n",
              "   CONTRIBUTING FACTOR VEHICLE 2  CONTRIBUTING FACTOR VEHICLE 3  \\\n",
              "0                            NaN                            NaN   \n",
              "1                            NaN                            NaN   \n",
              "2                            NaN                            NaN   \n",
              "3                    Unspecified                            NaN   \n",
              "4                    Unspecified                            NaN   \n",
              "\n",
              "   CONTRIBUTING FACTOR VEHICLE 4 CONTRIBUTING FACTOR VEHICLE 5 COLLISION_ID  \\\n",
              "0                            NaN                           NaN      3988123   \n",
              "1                            NaN                           NaN      3987962   \n",
              "2                            NaN                           NaN      4193132   \n",
              "3                            NaN                           NaN      3985962   \n",
              "4                            NaN                           NaN      4192111   \n",
              "\n",
              "  VEHICLE TYPE CODE 1                  VEHICLE TYPE CODE 2  \\\n",
              "0               Sedan                                  NaN   \n",
              "1               Sedan                                  NaN   \n",
              "2               Sedan                                  NaN   \n",
              "3                Bike  Station Wagon/Sport Utility Vehicle   \n",
              "4               Sedan                                Sedan   \n",
              "\n",
              "  VEHICLE TYPE CODE 3  VEHICLE TYPE CODE 4 VEHICLE TYPE CODE 5  \n",
              "0                 NaN                  NaN                 NaN  \n",
              "1                 NaN                  NaN                 NaN  \n",
              "2                 NaN                  NaN                 NaN  \n",
              "3                 NaN                  NaN                 NaN  \n",
              "4                 NaN                  NaN                 NaN  \n",
              "\n",
              "[5 rows x 24 columns]"
            ]
          },
          "execution_count": 7,
          "metadata": {},
          "output_type": "execute_result"
        }
      ],
      "source": [
        "df.head(5)"
      ]
    },
    {
      "cell_type": "code",
      "execution_count": 8,
      "metadata": {
        "id": "9dcRT1tYIBHx",
        "outputId": "7378b8c4-60d9-4de1-ef0a-6e1216ae564d",
        "scrolled": true
      },
      "outputs": [
        {
          "data": {
            "text/plain": [
              "Index(['DATE', 'TIME', 'BOROUGH', 'ZIP CODE', 'LATITUDE', 'LONGITUDE',\n",
              "       'ON STREET NAME', 'NUMBER OF PEDESTRIANS INJURED',\n",
              "       'NUMBER OF PEDESTRIANS KILLED', 'NUMBER OF CYCLIST INJURED',\n",
              "       'NUMBER OF CYCLIST KILLED', 'NUMBER OF MOTORIST INJURED',\n",
              "       'NUMBER OF MOTORIST KILLED', 'CONTRIBUTING FACTOR VEHICLE 1',\n",
              "       'CONTRIBUTING FACTOR VEHICLE 2', 'CONTRIBUTING FACTOR VEHICLE 3',\n",
              "       'CONTRIBUTING FACTOR VEHICLE 4', 'CONTRIBUTING FACTOR VEHICLE 5',\n",
              "       'COLLISION_ID', 'VEHICLE TYPE CODE 1', 'VEHICLE TYPE CODE 2',\n",
              "       'VEHICLE TYPE CODE 3', 'VEHICLE TYPE CODE 4', 'VEHICLE TYPE CODE 5'],\n",
              "      dtype='object')"
            ]
          },
          "execution_count": 8,
          "metadata": {},
          "output_type": "execute_result"
        }
      ],
      "source": [
        "df.columns"
      ]
    },
    {
      "cell_type": "markdown",
      "metadata": {
        "id": "GZDPCgrvIBHx"
      },
      "source": [
        "Tenemos las siguientes columnas\n",
        "\n",
        "1. **BOROUGH**: el municipio en el que ocurrió el accidente\n",
        "2. **COLLISION_ID**: un identificador único para esta colisión\n",
        "3. **CONTRIBUTING FACTOR VEHICLE (1, 2, 3, 4, 5)**: Motivos del accidente\n",
        "4. **CROSS STREET NAME**: Calle transversal más cercana al lugar del accidente\n",
        "5. **DATE**: Fecha del accidente\n",
        "6. **TIME**: Hora del accidente\n",
        "7. **LATITUDE**: Latitud del accidente\n",
        "8. **LONGITUDE**: Longitud del accidente\n",
        "9. **NUMBER OF (CYCLISTS, MOTORISTS, PEDESTRIANS) INJURED**: Lesión por categoría\n",
        "10. **NUMBER OF (CYCLISTS, MOTORISTS, PEDESTRIANS) DEATHS**: Categoría muerte sabia\n",
        "11. **ON STREET NAME**: Calle donde ocurrió el accidente\n",
        "13. **VEHICLE TYPE CODE(1, 2, 3, 4, 5)**: Tipos de vehículos involucrados en el accidente\n",
        "14. **ZIP CODE**: código postal del lugar del accidente"
      ]
    },
    {
      "cell_type": "markdown",
      "metadata": {
        "id": "n0BYCk5_IBHy"
      },
      "source": [
        "### Exercise 1 (30 min):\n",
        "\n",
        "Desde 2014, la ciudad de Nueva York ha estado implementando un plan de seguridad vial llamado [Vision Zero](https://www1.nyc.gov/content/visionzero/pages/). Su objetivo es reducir el número de muertes por accidentes de tránsito a *cero* para fines de 2024. El plan está creando nuevas y mejorando las medidas de seguridad actuales, algunas de ellas incluyen:\n",
        "\n",
        "- [ ] Detección de peatones automatizada\n",
        "- [ ] Auditorías de seguridad vial en lugares de alto riesgo\n",
        "- [ ] Ampliación de la red de carriles bici\n",
        "- [ ] Iniciativas específicas de educación y sensibilización\n",
        "- [ ] Creación de islas de refugio peatonal\n",
        "- [ ] Lanzamiento del programa integrado de reductor de velocidad basado en datos (topes y amortiguadores de velocidad)\n",
        "\n",
        "¿Cuáles de estas iniciativas podrían beneficiarse directamente de un análisis de los datos proporcionados? Marque todo lo que corresponda.\n",
        "\n",
        "**Nota:** Puede crear marcas de verificación haciendo doble clic en esta celda y agregando una ```[x]``` en las líneas correspondientes."
      ]
    },
    {
      "cell_type": "markdown",
      "metadata": {
        "id": "23z2LFLxIBHy"
      },
      "source": [
        "**Answer.**\n",
        "\n",
        "- [ ] Automated pedestrian detection\n",
        "\n",
        "The data provided contains the exact location, the number of pedestrians injured/killed, and the contributing factor of the vehicles in each accident. We could study the accidents where pedestrians were injured or killed. This *could* help to place cameras at important spots, where the automatic detection may be needed. However, for the *implementation* of automated pedestrian detection, a data set of images of crosswalks and intersections is more crucial.\n",
        "\n",
        "- [x] Road safety audits at high risk locations\n",
        "\n",
        "As discussed, our data can help with the recognition of problematic spots. We can check the street names where a high number of accidents have occured in the past, then inspect the area to see what extra measures should be implemented. \n",
        "\n",
        "- [ ] Expansion in the cycle track network\n",
        "\n",
        "Our data contains the number of cyclists injured/killed. We could determine the spots where these are happening the most and then improve the safety measures around the area. However, we would need more data to determine if these locations have a high volume of cyclists. Thus the data may not be that beneficial for making decisions on expanding the cycle network.\n",
        "\n",
        "- [x] Targeted education and awareness initiatives\n",
        "\n",
        "The data provides the contributing factor of the accidents along with the type of vehicles that were involved in them. We can then study which types of vehicles cause the most number of accidents and organize educational initiatives around this.\n",
        "\n",
        "- [ ] Creation of pedestrian refuge islands\n",
        "\n",
        "Pedestrian islands are usually created on streets that are very wide. Thus, the information provided might not be that beneficial for this initiative, as we do not have information on the width/size of streets.\n",
        "\n",
        "- [x] Launch Integrated Data-Driven Speed Reducer Program (speed humps & speed cushions)\n",
        "\n",
        "One of the contributing factors in accidents provided in the data is speeding. We can check if these accidents occur in highly transited areas. Thus, our data might be useful for the implementation of this initiative."
      ]
    },
    {
      "cell_type": "markdown",
      "metadata": {
        "id": "tuFA6ImEIBHy"
      },
      "source": [
        "Sigamos adelante y respondamos a cada una de las preguntas del cliente."
      ]
    },
    {
      "cell_type": "markdown",
      "metadata": {
        "id": "w4ubxACqIBHy"
      },
      "source": [
        "## Respondiendo las preguntas del cliente "
      ]
    },
    {
      "cell_type": "markdown",
      "metadata": {
        "id": "40dFbx8yIBHz"
      },
      "source": [
        "### Exercise 2 (30 min):\n",
        "\n",
        "Agrupe los datos disponibles mensualmente y genere un line plot de accidentes a lo largo del tiempo. ¿Ha aumentado el número de accidentes durante el último año y medio?\n",
        "\n",
        "**Sugerencia**: Puede encontrar útiles las funciones de pandas ```to_datetime ()``` y ```dt.to_period ()```."
      ]
    },
    {
      "cell_type": "markdown",
      "metadata": {
        "id": "pb3NkaJxIBHz"
      },
      "source": [
        "**Answer.** "
      ]
    },
    {
      "cell_type": "code",
      "execution_count": 9,
      "metadata": {
        "id": "QQuuBxOmIBHz",
        "outputId": "f8b51a22-d303-4278-e716-214997b6fc63"
      },
      "outputs": [
        {
          "data": {
            "text/plain": [
              "<AxesSubplot:xlabel='DATE'>"
            ]
          },
          "execution_count": 9,
          "metadata": {},
          "output_type": "execute_result"
        },
        {
          "data": {
            "image/png": "[encoded data removed]",
            "text/plain": [
              "<Figure size 432x288 with 1 Axes>"
            ]
          },
          "metadata": {
            "needs_background": "light"
          },
          "output_type": "display_data"
        }
      ],
      "source": [
        "df['DATE']=pd.to_datetime(df['DATE']) # Formato datetime python \n",
        "monthly_accidents =df.groupby(df['DATE'].dt.to_period('M')).size()\n",
        "monthly_accidents.plot.line()"
      ]
    },
    {
      "cell_type": "code",
      "execution_count": 10,
      "metadata": {
        "id": "Q-jwPDe1IBHz",
        "outputId": "36f99604-d6cc-4678-f58e-0a441c4a9a35"
      },
      "outputs": [
        {
          "data": {
            "text/plain": [
              "<AxesSubplot:xlabel='DATE'>"
            ]
          },
          "execution_count": 10,
          "metadata": {},
          "output_type": "execute_result"
        },
        {
          "data": {
            "image/png": "[encoded data removed]",
            "text/plain": [
              "<Figure size 432x288 with 1 Axes>"
            ]
          },
          "metadata": {
            "needs_background": "light"
          },
          "output_type": "display_data"
        }
      ],
      "source": [
        "#df['DATE']=pd.to_datetime(df['DATE'])\n",
        "#monthly_accidents = df.groupby(df['DATE'].dt.to_period('M')).size()\n",
        "#monthly_accidents.plot.line()\n",
        "\n",
        "monthly_accidents1 = df.groupby(df['DATE'].dt.to_period('D')).size()\n",
        "monthly_accidents1.plot.line()\n"
      ]
    },
    {
      "cell_type": "code",
      "execution_count": 11,
      "metadata": {
        "id": "eLnyc0tbIBH0",
        "outputId": "67510ade-743d-4751-ec04-f36aa10691bb"
      },
      "outputs": [
        {
          "data": {
            "text/plain": [
              "pandas.core.series.Series"
            ]
          },
          "execution_count": 11,
          "metadata": {},
          "output_type": "execute_result"
        }
      ],
      "source": [
        "type(monthly_accidents)"
      ]
    },
    {
      "cell_type": "code",
      "execution_count": 12,
      "metadata": {
        "id": "vPLfwOPZIBH0",
        "outputId": "8b9712fb-261f-4247-c782-5ca771b0ffbb"
      },
      "outputs": [
        {
          "data": {
            "text/plain": [
              "Timestamp('2019-08-24 00:00:00')"
            ]
          },
          "execution_count": 12,
          "metadata": {},
          "output_type": "execute_result"
        }
      ],
      "source": [
        "max(df['DATE']) "
      ]
    },
    {
      "cell_type": "markdown",
      "metadata": {
        "id": "HBjUTT7JIBH0"
      },
      "source": [
        "El gráfico de líneas que trazamos muestra claramente que no hay una tendencia alcista obvia en los accidentes a lo largo del tiempo."
      ]
    },
    {
      "cell_type": "markdown",
      "metadata": {
        "id": "rsMAF49nIBH1"
      },
      "source": [
        "### Exercise 3 (15 min):\n",
        "\n",
        "De la gráfica anterior, ¿qué meses parecen tener el menor número de accidentes? ¿Cuáles crees que son las razones detrás de esto?"
      ]
    },
    {
      "cell_type": "markdown",
      "metadata": {
        "id": "9EcjMGlkIBH2"
      },
      "source": [
        "**Answer.** \n",
        "\n",
        "Notamos que agosto de 2019 es el mes con el menor número de accidentes, pero esto probablemente se deba al hecho de que no hay un registro completo para este mes: ```max(df['DATE']) = Timestamp('2019-08-24 00:00:00') ```. Es decir, falta toda la última semana de datos.\n",
        "\n",
        "Sin tener en cuenta este mes, la menor cantidad de accidentes parece ocurrir en febrero. Este es el mes del año con las temperaturas más bajas y las condiciones de la carretera pueden complicarse un poco. Por lo tanto, las personas pueden preferir usar el transporte público y evitar salir tanto como sea posible debido al clima frío. Esto contrasta con el verano, donde las personas tienden a salir y pueden ocurrir más accidentes."
      ]
    },
    {
      "cell_type": "markdown",
      "metadata": {
        "id": "ksv4z1VyIBH2"
      },
      "source": [
        "### Exercise 4 (30 min):\n",
        "¿Cómo varía el número de accidentes a lo largo de un solo día? Cree una nueva columna `HOUR` basada en los datos de la columna `TIME`, luego trace un gráfico de barras de la distribución por hora a lo largo del día.\n",
        "\n",
        "**Sugerencia:** Puede encontrar útil la función ```dt.hour```."
      ]
    },
    {
      "cell_type": "markdown",
      "metadata": {
        "id": "5H1duoFrIBH2"
      },
      "source": [
        "**Answer.**"
      ]
    },
    {
      "cell_type": "code",
      "execution_count": 13,
      "metadata": {
        "id": "Pmk5OcJwIBH3",
        "outputId": "299dd961-4975-4be8-a473-ddeb3edd5c09"
      },
      "outputs": [
        {
          "data": {
            "text/plain": [
              "Text(0, 0.5, 'Total de accidentes')"
            ]
          },
          "execution_count": 13,
          "metadata": {},
          "output_type": "execute_result"
        },
        {
          "data": {
            "image/png": "[encoded data removed]",
            "text/plain": [
              "<Figure size 432x288 with 1 Axes>"
            ]
          },
          "metadata": {
            "needs_background": "light"
          },
          "output_type": "display_data"
        }
      ],
      "source": [
        "df['TIME']=pd.to_datetime(df['TIME'])\n",
        "df['HOUR'] = df['TIME'].dt.hour\n",
        "hourly_accidents =df.groupby('HOUR').size()\n",
        "hourly_accidents.index\n",
        "hourly_accidents.values\n",
        "plt.bar(hourly_accidents.index,hourly_accidents.values)\n",
        "plt.title('Distribucion de accidentes por hora')\n",
        "plt.xlabel('Hora')\n",
        "plt.ylabel('Total de accidentes')"
      ]
    },
    {
      "cell_type": "code",
      "execution_count": null,
      "metadata": {
        "id": "tfiO2uXSIBH3",
        "outputId": "adcacf25-8f07-490d-b312-12bf5e78e0e7"
      },
      "outputs": [
        {
          "data": {
            "text/plain": [
              "Text(0, 0.5, 'Total de accidentes')"
            ]
          },
          "execution_count": 43,
          "metadata": {},
          "output_type": "execute_result"
        },
        {
          "data": {
            "image/png": "[encoded data removed]",
            "text/plain": [
              "<Figure size 432x288 with 1 Axes>"
            ]
          },
          "metadata": {
            "needs_background": "light"
          },
          "output_type": "display_data"
        }
      ],
      "source": [
        "#Firt change the format of the TIME column\n",
        "df['TIME']=pd.to_datetime(df['TIME'])\n",
        "\n",
        "# Create a new hour column \n",
        "df['HOUR'] = df['TIME'].dt.hour\n",
        "\n",
        "# Find out how the number of accidents varies across hours. \n",
        "hourly_accidents = df.groupby('HOUR').size()\n",
        "hourly_accidents.index\n",
        "hourly_accidents.values\n",
        "plt.bar(hourly_accidents.index,hourly_accidents.values)\n",
        "plt.title('Distribucion de accidentes por hora')\n",
        "plt.xlabel('Hora')\n",
        "plt.ylabel('Total de accidentes')\n",
        "#hourly_accidents.plot.bar()"
      ]
    },
    {
      "cell_type": "code",
      "execution_count": null,
      "metadata": {
        "id": "6tBdyvtnIBH4",
        "outputId": "32d26e80-58e4-458a-faa8-d7766d77a4fe"
      },
      "outputs": [
        {
          "data": {
            "text/plain": [
              "Text(0, 0.5, 'Total de accidentes')"
            ]
          },
          "execution_count": 23,
          "metadata": {},
          "output_type": "execute_result"
        },
        {
          "data": {
            "image/png": "[encoded data removed]",
            "text/plain": [
              "<Figure size 432x288 with 1 Axes>"
            ]
          },
          "metadata": {
            "needs_background": "light"
          },
          "output_type": "display_data"
        }
      ],
      "source": [
        "sns.barplot(x=hourly_accidents.index, y=hourly_accidents.values)\n",
        "plt.title('Distribucion de accidentes por hora')\n",
        "plt.xlabel('Hora')\n",
        "plt.ylabel('Total de accidentes')"
      ]
    },
    {
      "cell_type": "markdown",
      "metadata": {
        "id": "S8ZFSKSEIBH4"
      },
      "source": [
        "A partir de esto, vemos que ocurren más accidentes en la tarde (2 - 6 PM) que en otros momentos del día."
      ]
    },
    {
      "cell_type": "markdown",
      "metadata": {
        "id": "Ul5adIDbIBH4"
      },
      "source": [
        "### Exercise 5 (15 min):\n",
        "\n",
        "En la pregunta anterior hemos agregado el número de accidentes por hora sin tener en cuenta la fecha y el lugar en que ocurrieron. ¿Qué crítica le daría a este enfoque?"
      ]
    },
    {
      "cell_type": "markdown",
      "metadata": {
        "id": "JjBpgBmvIBH4"
      },
      "source": [
        "**Answer.** \n",
        "\n",
        "La agregación de datos será un problema si las variables ignoradas exhiben grandes grados de variación y no se distribuyen de manera muy uniforme. Puede darse el caso de que la concentración de accidentes en algunas zonas de la ciudad ocurra en diferentes momentos del día, pero al agregar los datos podemos concluir falsamente que los accidentes son constantes en toda la ciudad. Probablemente, las zonas residenciales estén ocupadas entre las 5 y las 7 p. M., Pero las zonas comerciales o de fabricación pueden estar ocupadas entre las 3 y las 5 p. M. Esta información es importante si el cliente está interesado en diseñar un plan de implementación para que los oficiales de policía litiguen accidentes de tráfico, pero se perderá si agregamos todos los lugares en los que ocurrieron."
      ]
    },
    {
      "cell_type": "markdown",
      "metadata": {
        "id": "0RmZBQRRIBH5"
      },
      "source": [
        "### Exercise 6 (15 min):\n",
        "\n",
        "¿Cómo varía el número de accidentes en una sola semana? Trace un gráfico de barras basado en el recuento de accidentes por día de la semana.\n",
        "\n",
        "**Sugerencia:** Puede encontrar útil la función ```dt.weekday```."
      ]
    },
    {
      "cell_type": "markdown",
      "metadata": {
        "id": "-SgKt5eFIBH5"
      },
      "source": [
        "**Answer.**"
      ]
    },
    {
      "cell_type": "code",
      "execution_count": null,
      "metadata": {
        "id": "NdFl3IlEIBH5",
        "outputId": "2aaf1543-a5d5-4d35-966f-8314e7356d94"
      },
      "outputs": [
        {
          "data": {
            "text/plain": [
              "<matplotlib.axes._subplots.AxesSubplot at 0x294ac233d48>"
            ]
          },
          "execution_count": 24,
          "metadata": {},
          "output_type": "execute_result"
        },
        {
          "data": {
            "image/png": "[encoded data removed]",
            "text/plain": [
              "<Figure size 432x288 with 1 Axes>"
            ]
          },
          "metadata": {
            "needs_background": "light"
          },
          "output_type": "display_data"
        }
      ],
      "source": [
        "df['WEEKDAY'] = df['DATE'].dt.weekday\n",
        "weekday_accidents=df.groupby('WEEKDAY').size()\n",
        "weekday_accidents.plot.bar()"
      ]
    },
    {
      "cell_type": "code",
      "execution_count": null,
      "metadata": {
        "id": "43FKATHUIBH5",
        "outputId": "566f3cde-3903-4be9-b312-e9ea9a210ae3"
      },
      "outputs": [
        {
          "data": {
            "text/plain": [
              "<matplotlib.axes._subplots.AxesSubplot at 0x1ed1483c488>"
            ]
          },
          "execution_count": 47,
          "metadata": {},
          "output_type": "execute_result"
        },
        {
          "data": {
            "image/png": "[encoded data removed]",
            "text/plain": [
              "<Figure size 432x288 with 1 Axes>"
            ]
          },
          "metadata": {
            "needs_background": "light"
          },
          "output_type": "display_data"
        }
      ],
      "source": [
        "df['WEEKDAY'] = df['DATE'].dt.weekday\n",
        "weekday_accidents = df.groupby('WEEKDAY').size()\n",
        "weekday_accidents.plot.bar()"
      ]
    },
    {
      "cell_type": "markdown",
      "metadata": {
        "id": "lJZvwEjgIBH5"
      },
      "source": [
        "Hay relativamente menos accidentes los fines de semana que entre semana."
      ]
    },
    {
      "cell_type": "markdown",
      "metadata": {
        "id": "XOJ6TpklIBH5"
      },
      "source": [
        "### Exercise 7 (30 min):\n",
        "\n",
        "Trace una gráfica de barras del número total de accidentes en cada municipio, así como uno de los accidentes por milla cuadrada por municipio. ¿Qué puedes concluir?\n",
        "\n",
        "**Sugerencia:** Es posible que desee actualizar algunas de las claves en el diccionario del municipio para que coincidan con los nombres en el marco de datos."
      ]
    },
    {
      "cell_type": "markdown",
      "metadata": {
        "id": "4rNubyWwIBH6"
      },
      "source": [
        "**Answer.**"
      ]
    },
    {
      "cell_type": "code",
      "execution_count": null,
      "metadata": {
        "id": "IEf-iUpNIBH6",
        "outputId": "6b79ba94-7e7b-45cb-83f0-25cb04eda80c"
      },
      "outputs": [
        {
          "data": {
            "text/plain": [
              "BOROUGH\n",
              "BRONX            37709\n",
              "BROOKLYN         76253\n",
              "MANHATTAN        48749\n",
              "QUEENS           67120\n",
              "STATEN ISLAND     8691\n",
              "dtype: int64"
            ]
          },
          "execution_count": 25,
          "metadata": {},
          "output_type": "execute_result"
        }
      ],
      "source": [
        "df.groupby('BOROUGH').size()"
      ]
    },
    {
      "cell_type": "code",
      "execution_count": null,
      "metadata": {
        "id": "zOqA3kzQIBH6",
        "outputId": "7b537436-124f-4476-a6c4-38714ee65b1d",
        "scrolled": true
      },
      "outputs": [
        {
          "data": {
            "text/plain": [
              "<matplotlib.axes._subplots.AxesSubplot at 0x294ac29b588>"
            ]
          },
          "execution_count": 26,
          "metadata": {},
          "output_type": "execute_result"
        },
        {
          "data": {
            "image/png": "[encoded data removed]",
            "text/plain": [
              "<Figure size 432x288 with 1 Axes>"
            ]
          },
          "metadata": {
            "needs_background": "light"
          },
          "output_type": "display_data"
        }
      ],
      "source": [
        "boroughs = df.groupby('BOROUGH').size()\n",
        "boroughs.plot.bar()"
      ]
    },
    {
      "cell_type": "code",
      "execution_count": null,
      "metadata": {
        "id": "lVuw_4iOIBH6",
        "outputId": "22d3d1c8-70f7-480b-bb73-14a5ed695049"
      },
      "outputs": [
        {
          "data": {
            "text/plain": [
              "BOROUGH\n",
              "BRONX            37709\n",
              "BROOKLYN         76253\n",
              "MANHATTAN        48749\n",
              "QUEENS           67120\n",
              "STATEN ISLAND     8691\n",
              "dtype: int64"
            ]
          },
          "execution_count": 30,
          "metadata": {},
          "output_type": "execute_result"
        }
      ],
      "source": [
        "boroughs"
      ]
    },
    {
      "cell_type": "code",
      "execution_count": null,
      "metadata": {
        "id": "ktaX0riiIBH6",
        "outputId": "cfb57760-e283-41e0-9f83-445b1a5ebb78"
      },
      "outputs": [
        {
          "data": {
            "text/plain": [
              "{'the bronx': {'name': 'the bronx', 'population': 1471160.0, 'area': 42.1},\n",
              " 'brooklyn': {'name': 'brooklyn', 'population': 2648771.0, 'area': 70.82},\n",
              " 'manhattan': {'name': 'manhattan', 'population': 1664727.0, 'area': 22.83},\n",
              " 'queens': {'name': 'queens', 'population': 2358582.0, 'area': 108.53},\n",
              " 'staten island': {'name': 'staten island',\n",
              "  'population': 479458.0,\n",
              "  'area': 58.37}}"
            ]
          },
          "execution_count": 34,
          "metadata": {},
          "output_type": "execute_result"
        }
      ],
      "source": [
        "borough_data"
      ]
    },
    {
      "cell_type": "markdown",
      "metadata": {
        "id": "NN-0TxaTIBH7"
      },
      "source": [
        "Podemos ver que Brooklyn y Queens tienen un número muy alto de accidentes en relación con los otros tres condados. Pero, ¿qué tal por milla cuadrada?"
      ]
    },
    {
      "cell_type": "code",
      "execution_count": null,
      "metadata": {
        "id": "oNPZYqAFIBH7",
        "outputId": "8382a459-cbee-4248-fb6f-3f0fedd9dabc"
      },
      "outputs": [
        {
          "name": "stdout",
          "output_type": "stream",
          "text": [
            "dict_keys(['the bronx', 'brooklyn', 'manhattan', 'queens', 'staten island'])\n",
            "['BRONX' 'BROOKLYN' 'QUEENS' 'MANHATTAN' 'STATEN ISLAND']\n"
          ]
        }
      ],
      "source": [
        "# Update keys in borough data\n",
        "print(borough_data.keys())\n",
        "print(df['BOROUGH'].unique())\n",
        "\n",
        "# Since there are differences in the text used in the data and Wikipedia data, let's update it\n",
        "borough_data['bronx'] = borough_data.pop('the bronx')\n"
      ]
    },
    {
      "cell_type": "code",
      "execution_count": null,
      "metadata": {
        "id": "vB_nfkcMIBH7",
        "outputId": "47ba6896-1bb3-462c-fe2d-77946e12b0e3"
      },
      "outputs": [
        {
          "data": {
            "text/html": [
              "<div>\n",
              "<style scoped>\n",
              "    .dataframe tbody tr th:only-of-type {\n",
              "        vertical-align: middle;\n",
              "    }\n",
              "\n",
              "    .dataframe tbody tr th {\n",
              "        vertical-align: top;\n",
              "    }\n",
              "\n",
              "    .dataframe thead th {\n",
              "        text-align: right;\n",
              "    }\n",
              "</style>\n",
              "<table border=\"1\" class=\"dataframe\">\n",
              "  <thead>\n",
              "    <tr style=\"text-align: right;\">\n",
              "      <th></th>\n",
              "      <th>count</th>\n",
              "      <th>borough</th>\n",
              "      <th>accidents_per_sq_mi</th>\n",
              "    </tr>\n",
              "    <tr>\n",
              "      <th>BOROUGH</th>\n",
              "      <th></th>\n",
              "      <th></th>\n",
              "      <th></th>\n",
              "    </tr>\n",
              "  </thead>\n",
              "  <tbody>\n",
              "    <tr>\n",
              "      <th>BRONX</th>\n",
              "      <td>37709</td>\n",
              "      <td>BRONX</td>\n",
              "      <td>895.700713</td>\n",
              "    </tr>\n",
              "    <tr>\n",
              "      <th>BROOKLYN</th>\n",
              "      <td>76253</td>\n",
              "      <td>BROOKLYN</td>\n",
              "      <td>1076.715617</td>\n",
              "    </tr>\n",
              "    <tr>\n",
              "      <th>MANHATTAN</th>\n",
              "      <td>48749</td>\n",
              "      <td>MANHATTAN</td>\n",
              "      <td>2135.304424</td>\n",
              "    </tr>\n",
              "    <tr>\n",
              "      <th>QUEENS</th>\n",
              "      <td>67120</td>\n",
              "      <td>QUEENS</td>\n",
              "      <td>618.446512</td>\n",
              "    </tr>\n",
              "    <tr>\n",
              "      <th>STATEN ISLAND</th>\n",
              "      <td>8691</td>\n",
              "      <td>STATEN ISLAND</td>\n",
              "      <td>148.894980</td>\n",
              "    </tr>\n",
              "  </tbody>\n",
              "</table>\n",
              "</div>"
            ],
            "text/plain": [
              "               count        borough  accidents_per_sq_mi\n",
              "BOROUGH                                                 \n",
              "BRONX          37709          BRONX           895.700713\n",
              "BROOKLYN       76253       BROOKLYN          1076.715617\n",
              "MANHATTAN      48749      MANHATTAN          2135.304424\n",
              "QUEENS         67120         QUEENS           618.446512\n",
              "STATEN ISLAND   8691  STATEN ISLAND           148.894980"
            ]
          },
          "execution_count": 36,
          "metadata": {},
          "output_type": "execute_result"
        }
      ],
      "source": [
        "borough_frame = pd.DataFrame(boroughs)\n",
        "borough_frame.columns = ['count']\n",
        "borough_frame['borough'] = borough_frame.index\n",
        "borough_frame['accidents_per_sq_mi'] = borough_frame.apply(lambda x: x['count']/borough_data[x['borough'].lower()]['area'], axis=1)\n",
        "borough_frame"
      ]
    },
    {
      "cell_type": "code",
      "execution_count": null,
      "metadata": {
        "id": "tZ_vfEChIBH8",
        "outputId": "a079a47a-3d0c-4c83-d398-a51cfc597980"
      },
      "outputs": [
        {
          "data": {
            "text/html": [
              "<div>\n",
              "<style scoped>\n",
              "    .dataframe tbody tr th:only-of-type {\n",
              "        vertical-align: middle;\n",
              "    }\n",
              "\n",
              "    .dataframe tbody tr th {\n",
              "        vertical-align: top;\n",
              "    }\n",
              "\n",
              "    .dataframe thead th {\n",
              "        text-align: right;\n",
              "    }\n",
              "</style>\n",
              "<table border=\"1\" class=\"dataframe\">\n",
              "  <thead>\n",
              "    <tr style=\"text-align: right;\">\n",
              "      <th></th>\n",
              "      <th>count</th>\n",
              "      <th>borough</th>\n",
              "      <th>accidents_per_sq_mi</th>\n",
              "    </tr>\n",
              "    <tr>\n",
              "      <th>BOROUGH</th>\n",
              "      <th></th>\n",
              "      <th></th>\n",
              "      <th></th>\n",
              "    </tr>\n",
              "  </thead>\n",
              "  <tbody>\n",
              "    <tr>\n",
              "      <th>BRONX</th>\n",
              "      <td>37709</td>\n",
              "      <td>BRONX</td>\n",
              "      <td>895.700713</td>\n",
              "    </tr>\n",
              "    <tr>\n",
              "      <th>BROOKLYN</th>\n",
              "      <td>76253</td>\n",
              "      <td>BROOKLYN</td>\n",
              "      <td>1076.715617</td>\n",
              "    </tr>\n",
              "    <tr>\n",
              "      <th>MANHATTAN</th>\n",
              "      <td>48749</td>\n",
              "      <td>MANHATTAN</td>\n",
              "      <td>2135.304424</td>\n",
              "    </tr>\n",
              "    <tr>\n",
              "      <th>QUEENS</th>\n",
              "      <td>67120</td>\n",
              "      <td>QUEENS</td>\n",
              "      <td>618.446512</td>\n",
              "    </tr>\n",
              "    <tr>\n",
              "      <th>STATEN ISLAND</th>\n",
              "      <td>8691</td>\n",
              "      <td>STATEN ISLAND</td>\n",
              "      <td>148.894980</td>\n",
              "    </tr>\n",
              "  </tbody>\n",
              "</table>\n",
              "</div>"
            ],
            "text/plain": [
              "               count        borough  accidents_per_sq_mi\n",
              "BOROUGH                                                 \n",
              "BRONX          37709          BRONX           895.700713\n",
              "BROOKLYN       76253       BROOKLYN          1076.715617\n",
              "MANHATTAN      48749      MANHATTAN          2135.304424\n",
              "QUEENS         67120         QUEENS           618.446512\n",
              "STATEN ISLAND   8691  STATEN ISLAND           148.894980"
            ]
          },
          "execution_count": 65,
          "metadata": {},
          "output_type": "execute_result"
        }
      ],
      "source": [
        "borough_frame = pd.DataFrame(boroughs)\n",
        "borough_frame.columns = ['count']\n",
        "borough_frame['borough'] = borough_frame.index\n",
        "borough_frame['accidents_per_sq_mi'] = borough_frame.apply(lambda x: x['count'] / borough_data[x['borough'].lower()]['area'], axis=1)\n",
        "borough_frame"
      ]
    },
    {
      "cell_type": "code",
      "execution_count": null,
      "metadata": {
        "id": "Pd7AnDO9IBH8",
        "outputId": "51682c51-4802-4609-86c0-9866ae775926"
      },
      "outputs": [
        {
          "data": {
            "text/plain": [
              "<matplotlib.axes._subplots.AxesSubplot at 0x294acccf108>"
            ]
          },
          "execution_count": 37,
          "metadata": {},
          "output_type": "execute_result"
        },
        {
          "data": {
            "image/png": "[encoded data removed]",
            "text/plain": [
              "<Figure size 432x288 with 1 Axes>"
            ]
          },
          "metadata": {
            "needs_background": "light"
          },
          "output_type": "display_data"
        }
      ],
      "source": [
        "borough_frame.plot.bar(x='borough', y='accidents_per_sq_mi')"
      ]
    },
    {
      "cell_type": "markdown",
      "metadata": {
        "id": "b5VJTK4RIBH8"
      },
      "source": [
        "Ahora tenemos las claves para hacer coincidir el diccionario y el marco de datos. La diferencia entre mayúsculas y minúsculas se puede manejar haciendo que la acción de mapeo no distinga entre mayúsculas y minúsculas. Esto se puede hacer convirtiendo las claves del diccionario a mayúsculas o los datos del marco de datos a minúsculas.\n",
        "\n",
        "Hagamos eso y grafiquemos `accidentes_por_sq_mi`, que es la relación accidentes-área:"
      ]
    },
    {
      "cell_type": "code",
      "execution_count": null,
      "metadata": {
        "id": "J5K1kIzwIBH9",
        "outputId": "2c1bdbd1-5637-4625-86b8-949f208d3586",
        "scrolled": true
      },
      "outputs": [
        {
          "data": {
            "text/plain": [
              "<matplotlib.axes._subplots.AxesSubplot at 0x1ed1494dac8>"
            ]
          },
          "execution_count": 58,
          "metadata": {},
          "output_type": "execute_result"
        },
        {
          "data": {
            "image/png": "[encoded data removed]",
            "text/plain": [
              "<Figure size 432x288 with 1 Axes>"
            ]
          },
          "metadata": {
            "needs_background": "light"
          },
          "output_type": "display_data"
        }
      ],
      "source": [
        "borough_frame = pd.DataFrame(boroughs)\n",
        "borough_frame.columns = ['count']\n",
        "borough_frame['borough'] = borough_frame.index\n",
        "\n",
        "borough_frame['accidents_per_sq_mi'] = borough_frame.apply(lambda x: x['count'] / borough_data[x['borough'].lower()]['area'], axis=1)\n",
        "borough_frame.plot.bar(x='borough', y='accidents_per_sq_mi')"
      ]
    },
    {
      "cell_type": "markdown",
      "metadata": {
        "id": "ZEKkedbXIBH9"
      },
      "source": [
        "Al mirar el parámetro `accident_per_sq_mi`, Manhattan encabeza la lista por un amplio margen. Esto muestra claramente que aunque Brooklyn y Queens tienen más accidentes totales, Manhattan tiene una concentración mucho mayor de accidentes."
      ]
    },
    {
      "cell_type": "markdown",
      "metadata": {
        "id": "5rqdLiSGIBH9"
      },
      "source": [
        "### Exercise 8 (30 min):\n",
        "\n",
        "¿Qué horas tienen más accidentes en cada municipio? Trace un gráfico de barras para cada municipio que muestre el número de accidentes por cada hora del día.\n",
        "\n",
        "**Sugerencia:** Puede usar ```sns.FacetGrid``` para crear una cuadrícula de parcelas con los datos por hora de cada municipio."
      ]
    },
    {
      "cell_type": "markdown",
      "metadata": {
        "id": "Akj1AUwBIBH9"
      },
      "source": [
        "**Answer.**"
      ]
    },
    {
      "cell_type": "code",
      "execution_count": null,
      "metadata": {
        "id": "PlrdOzpZIBH-",
        "outputId": "2fa298f3-149a-4dd7-9517-30a33dbf67c3"
      },
      "outputs": [
        {
          "data": {
            "text/plain": [
              "BOROUGH        HOUR\n",
              "BRONX          0       1329\n",
              "               1        529\n",
              "               2        402\n",
              "               3        361\n",
              "               4        418\n",
              "                       ... \n",
              "STATEN ISLAND  19       415\n",
              "               20       367\n",
              "               21       268\n",
              "               22       224\n",
              "               23       174\n",
              "Length: 120, dtype: int64"
            ]
          },
          "execution_count": 38,
          "metadata": {},
          "output_type": "execute_result"
        }
      ],
      "source": [
        "df.groupby(['BOROUGH', 'HOUR']).size()"
      ]
    },
    {
      "cell_type": "code",
      "execution_count": null,
      "metadata": {
        "id": "rOQaNayOIBH-",
        "outputId": "aa944538-ad47-4b16-8768-98a8d9a475df"
      },
      "outputs": [
        {
          "data": {
            "text/html": [
              "<div>\n",
              "<style scoped>\n",
              "    .dataframe tbody tr th:only-of-type {\n",
              "        vertical-align: middle;\n",
              "    }\n",
              "\n",
              "    .dataframe tbody tr th {\n",
              "        vertical-align: top;\n",
              "    }\n",
              "\n",
              "    .dataframe thead th {\n",
              "        text-align: right;\n",
              "    }\n",
              "</style>\n",
              "<table border=\"1\" class=\"dataframe\">\n",
              "  <thead>\n",
              "    <tr style=\"text-align: right;\">\n",
              "      <th></th>\n",
              "      <th>BOROUGH</th>\n",
              "      <th>HOUR</th>\n",
              "      <th>count</th>\n",
              "    </tr>\n",
              "  </thead>\n",
              "  <tbody>\n",
              "    <tr>\n",
              "      <th>0</th>\n",
              "      <td>BRONX</td>\n",
              "      <td>0</td>\n",
              "      <td>1329</td>\n",
              "    </tr>\n",
              "    <tr>\n",
              "      <th>1</th>\n",
              "      <td>BRONX</td>\n",
              "      <td>1</td>\n",
              "      <td>529</td>\n",
              "    </tr>\n",
              "    <tr>\n",
              "      <th>2</th>\n",
              "      <td>BRONX</td>\n",
              "      <td>2</td>\n",
              "      <td>402</td>\n",
              "    </tr>\n",
              "    <tr>\n",
              "      <th>3</th>\n",
              "      <td>BRONX</td>\n",
              "      <td>3</td>\n",
              "      <td>361</td>\n",
              "    </tr>\n",
              "    <tr>\n",
              "      <th>4</th>\n",
              "      <td>BRONX</td>\n",
              "      <td>4</td>\n",
              "      <td>418</td>\n",
              "    </tr>\n",
              "    <tr>\n",
              "      <th>5</th>\n",
              "      <td>BRONX</td>\n",
              "      <td>5</td>\n",
              "      <td>508</td>\n",
              "    </tr>\n",
              "    <tr>\n",
              "      <th>6</th>\n",
              "      <td>BRONX</td>\n",
              "      <td>6</td>\n",
              "      <td>835</td>\n",
              "    </tr>\n",
              "    <tr>\n",
              "      <th>7</th>\n",
              "      <td>BRONX</td>\n",
              "      <td>7</td>\n",
              "      <td>1406</td>\n",
              "    </tr>\n",
              "    <tr>\n",
              "      <th>8</th>\n",
              "      <td>BRONX</td>\n",
              "      <td>8</td>\n",
              "      <td>2341</td>\n",
              "    </tr>\n",
              "    <tr>\n",
              "      <th>9</th>\n",
              "      <td>BRONX</td>\n",
              "      <td>9</td>\n",
              "      <td>2162</td>\n",
              "    </tr>\n",
              "    <tr>\n",
              "      <th>10</th>\n",
              "      <td>BRONX</td>\n",
              "      <td>10</td>\n",
              "      <td>1733</td>\n",
              "    </tr>\n",
              "    <tr>\n",
              "      <th>11</th>\n",
              "      <td>BRONX</td>\n",
              "      <td>11</td>\n",
              "      <td>1891</td>\n",
              "    </tr>\n",
              "    <tr>\n",
              "      <th>12</th>\n",
              "      <td>BRONX</td>\n",
              "      <td>12</td>\n",
              "      <td>2121</td>\n",
              "    </tr>\n",
              "    <tr>\n",
              "      <th>13</th>\n",
              "      <td>BRONX</td>\n",
              "      <td>13</td>\n",
              "      <td>2163</td>\n",
              "    </tr>\n",
              "    <tr>\n",
              "      <th>14</th>\n",
              "      <td>BRONX</td>\n",
              "      <td>14</td>\n",
              "      <td>2576</td>\n",
              "    </tr>\n",
              "    <tr>\n",
              "      <th>15</th>\n",
              "      <td>BRONX</td>\n",
              "      <td>15</td>\n",
              "      <td>2616</td>\n",
              "    </tr>\n",
              "    <tr>\n",
              "      <th>16</th>\n",
              "      <td>BRONX</td>\n",
              "      <td>16</td>\n",
              "      <td>2952</td>\n",
              "    </tr>\n",
              "    <tr>\n",
              "      <th>17</th>\n",
              "      <td>BRONX</td>\n",
              "      <td>17</td>\n",
              "      <td>2690</td>\n",
              "    </tr>\n",
              "    <tr>\n",
              "      <th>18</th>\n",
              "      <td>BRONX</td>\n",
              "      <td>18</td>\n",
              "      <td>2323</td>\n",
              "    </tr>\n",
              "    <tr>\n",
              "      <th>19</th>\n",
              "      <td>BRONX</td>\n",
              "      <td>19</td>\n",
              "      <td>1834</td>\n",
              "    </tr>\n",
              "    <tr>\n",
              "      <th>20</th>\n",
              "      <td>BRONX</td>\n",
              "      <td>20</td>\n",
              "      <td>1450</td>\n",
              "    </tr>\n",
              "    <tr>\n",
              "      <th>21</th>\n",
              "      <td>BRONX</td>\n",
              "      <td>21</td>\n",
              "      <td>1204</td>\n",
              "    </tr>\n",
              "    <tr>\n",
              "      <th>22</th>\n",
              "      <td>BRONX</td>\n",
              "      <td>22</td>\n",
              "      <td>1032</td>\n",
              "    </tr>\n",
              "    <tr>\n",
              "      <th>23</th>\n",
              "      <td>BRONX</td>\n",
              "      <td>23</td>\n",
              "      <td>833</td>\n",
              "    </tr>\n",
              "    <tr>\n",
              "      <th>24</th>\n",
              "      <td>BROOKLYN</td>\n",
              "      <td>0</td>\n",
              "      <td>2635</td>\n",
              "    </tr>\n",
              "    <tr>\n",
              "      <th>25</th>\n",
              "      <td>BROOKLYN</td>\n",
              "      <td>1</td>\n",
              "      <td>1021</td>\n",
              "    </tr>\n",
              "    <tr>\n",
              "      <th>26</th>\n",
              "      <td>BROOKLYN</td>\n",
              "      <td>2</td>\n",
              "      <td>738</td>\n",
              "    </tr>\n",
              "    <tr>\n",
              "      <th>27</th>\n",
              "      <td>BROOKLYN</td>\n",
              "      <td>3</td>\n",
              "      <td>666</td>\n",
              "    </tr>\n",
              "    <tr>\n",
              "      <th>28</th>\n",
              "      <td>BROOKLYN</td>\n",
              "      <td>4</td>\n",
              "      <td>728</td>\n",
              "    </tr>\n",
              "    <tr>\n",
              "      <th>29</th>\n",
              "      <td>BROOKLYN</td>\n",
              "      <td>5</td>\n",
              "      <td>842</td>\n",
              "    </tr>\n",
              "  </tbody>\n",
              "</table>\n",
              "</div>"
            ],
            "text/plain": [
              "     BOROUGH  HOUR  count\n",
              "0      BRONX     0   1329\n",
              "1      BRONX     1    529\n",
              "2      BRONX     2    402\n",
              "3      BRONX     3    361\n",
              "4      BRONX     4    418\n",
              "5      BRONX     5    508\n",
              "6      BRONX     6    835\n",
              "7      BRONX     7   1406\n",
              "8      BRONX     8   2341\n",
              "9      BRONX     9   2162\n",
              "10     BRONX    10   1733\n",
              "11     BRONX    11   1891\n",
              "12     BRONX    12   2121\n",
              "13     BRONX    13   2163\n",
              "14     BRONX    14   2576\n",
              "15     BRONX    15   2616\n",
              "16     BRONX    16   2952\n",
              "17     BRONX    17   2690\n",
              "18     BRONX    18   2323\n",
              "19     BRONX    19   1834\n",
              "20     BRONX    20   1450\n",
              "21     BRONX    21   1204\n",
              "22     BRONX    22   1032\n",
              "23     BRONX    23    833\n",
              "24  BROOKLYN     0   2635\n",
              "25  BROOKLYN     1   1021\n",
              "26  BROOKLYN     2    738\n",
              "27  BROOKLYN     3    666\n",
              "28  BROOKLYN     4    728\n",
              "29  BROOKLYN     5    842"
            ]
          },
          "execution_count": 40,
          "metadata": {},
          "output_type": "execute_result"
        }
      ],
      "source": [
        "df1 = pd.DataFrame({'count': df.groupby(['BOROUGH', 'HOUR']).size()})\n",
        "df1\n",
        "df1 = df1.reset_index()\n",
        "df1.head(30)"
      ]
    },
    {
      "cell_type": "code",
      "execution_count": null,
      "metadata": {
        "id": "YL3QhhPDIBH-",
        "outputId": "31e5210e-de40-4027-8d14-070ae5fc855a"
      },
      "outputs": [
        {
          "data": {
            "text/plain": [
              "<seaborn.axisgrid.FacetGrid at 0x294ad033a08>"
            ]
          },
          "execution_count": 42,
          "metadata": {},
          "output_type": "execute_result"
        },
        {
          "data": {
            "image/png": "[encoded data removed]",
            "text/plain": [
              "<Figure size 1296x432 with 5 Axes>"
            ]
          },
          "metadata": {
            "needs_background": "light"
          },
          "output_type": "display_data"
        }
      ],
      "source": [
        "chart = sns.FacetGrid(df1, col='BOROUGH', margin_titles=True, col_wrap=3, aspect=2, row_order=df['BOROUGH'].unique)\n",
        "chart"
      ]
    },
    {
      "cell_type": "code",
      "execution_count": null,
      "metadata": {
        "id": "jtfL3gZIIBH-",
        "outputId": "ee514fb2-7a01-40db-b874-690bf2f14b51"
      },
      "outputs": [
        {
          "name": "stderr",
          "output_type": "stream",
          "text": [
            "C:\\Users\\Windows\\Anaconda3\\lib\\site-packages\\seaborn\\axisgrid.py:643: UserWarning: Using the barplot function without specifying `order` is likely to produce an incorrect plot.\n",
            "  warnings.warn(warning)\n"
          ]
        },
        {
          "data": {
            "text/plain": [
              "<seaborn.axisgrid.FacetGrid at 0x294acd96bc8>"
            ]
          },
          "execution_count": 43,
          "metadata": {},
          "output_type": "execute_result"
        },
        {
          "data": {
            "image/png": "[encoded data removed]",
            "text/plain": [
              "<Figure size 1296x432 with 5 Axes>"
            ]
          },
          "metadata": {
            "needs_background": "light"
          },
          "output_type": "display_data"
        }
      ],
      "source": [
        "df1 = pd.DataFrame({'count': df.groupby(['BOROUGH', 'HOUR']).size()})\n",
        "df1 = df1.reset_index()\n",
        "chart = sns.FacetGrid(df1, col='BOROUGH', margin_titles=True, col_wrap=3, aspect=2, row_order=df['BOROUGH'].unique)\n",
        "chart.map(sns.barplot, 'HOUR', 'count',)"
      ]
    },
    {
      "cell_type": "markdown",
      "metadata": {
        "id": "4IDVzQfuIBH-"
      },
      "source": [
        "**¿Es mayor el número de accidentes en diferentes momentos en diferentes distritos? ¿Deberíamos concentrarnos en diferentes momentos para cada municipio?**"
      ]
    },
    {
      "cell_type": "markdown",
      "metadata": {
        "id": "sssn6cjbIBH-"
      },
      "source": [
        "Podemos ver que en todos los distritos el recuento de accidentes es más alto aproximadamente entre las 2 y las 6 p.m. Pero en Manhattan y el Bronx, puede ver que no hay tanto aumento relativo durante estas horas como en Brooklyn o Queens. Además, Staten Island tiene el menor número total de accidentes."
      ]
    },
    {
      "cell_type": "markdown",
      "metadata": {
        "id": "nW96ooRJIBH_"
      },
      "source": [
        "### Exercise 9 (45 min):\n",
        "\n",
        "¿Qué factores provocan la mayoría de los accidentes? Evite contar dos veces los factores que contribuyen a un solo accidente.\n",
        "\n",
        "**Sugerencia:** Una forma de lidiar con las repeticiones es concatenar las columnas correspondientes conservando sus índices, puede hacerlo con las funciones ```pd.concat()``` y ```reset_index()```. Luego, use un ```group_by``` apropiado para contar el número de repeticiones de factores contribuidos por accidente."
      ]
    },
    {
      "cell_type": "markdown",
      "metadata": {
        "id": "FlV5HlX3IBH_"
      },
      "source": [
        "**Answer**.\n",
        "\n",
        "**Solution 1**\n",
        "\n",
        "Usando la sugerencia de la pregunta"
      ]
    },
    {
      "cell_type": "code",
      "execution_count": null,
      "metadata": {
        "id": "JFPKGZBYIBH_",
        "outputId": "b59d4bc0-040b-4712-d18b-658145816afb"
      },
      "outputs": [
        {
          "data": {
            "text/plain": [
              "Index(['DATE', 'TIME', 'BOROUGH', 'ZIP CODE', 'LATITUDE', 'LONGITUDE',\n",
              "       'ON STREET NAME', 'NUMBER OF PEDESTRIANS INJURED',\n",
              "       'NUMBER OF PEDESTRIANS KILLED', 'NUMBER OF CYCLIST INJURED',\n",
              "       'NUMBER OF CYCLIST KILLED', 'NUMBER OF MOTORIST INJURED',\n",
              "       'NUMBER OF MOTORIST KILLED', 'CONTRIBUTING FACTOR VEHICLE 1',\n",
              "       'CONTRIBUTING FACTOR VEHICLE 2', 'CONTRIBUTING FACTOR VEHICLE 3',\n",
              "       'CONTRIBUTING FACTOR VEHICLE 4', 'CONTRIBUTING FACTOR VEHICLE 5',\n",
              "       'COLLISION_ID', 'VEHICLE TYPE CODE 1', 'VEHICLE TYPE CODE 2',\n",
              "       'VEHICLE TYPE CODE 3', 'VEHICLE TYPE CODE 4', 'VEHICLE TYPE CODE 5',\n",
              "       'HOUR', 'WEEKDAY'],\n",
              "      dtype='object')"
            ]
          },
          "execution_count": 73,
          "metadata": {},
          "output_type": "execute_result"
        }
      ],
      "source": [
        "df.columns"
      ]
    },
    {
      "cell_type": "code",
      "execution_count": null,
      "metadata": {
        "id": "nUeoFUM0IBH_",
        "outputId": "26386330-7ae0-41d4-89a6-da4133ab17fe"
      },
      "outputs": [
        {
          "data": {
            "text/plain": [
              "FACTOR\n",
              "Unspecified                                              190096\n",
              "Driver Inattention/Distraction                            61752\n",
              "Failure to Yield Right-of-Way                             19641\n",
              "Following Too Closely                                     17293\n",
              "Backing Unsafely                                          14835\n",
              "Passing Too Closely                                       12631\n",
              "Passing or Lane Usage Improper                            11808\n",
              "Other Vehicular                                            8860\n",
              "Unsafe Lane Changing                                       6643\n",
              "Turning Improperly                                         6626\n",
              "Traffic Control Disregarded                                4687\n",
              "Driver Inexperience                                        4152\n",
              "Unsafe Speed                                               3469\n",
              "Reaction to Uninvolved Vehicle                             3034\n",
              "Alcohol Involvement                                        2491\n",
              "View Obstructed/Limited                                    2345\n",
              "Oversized Vehicle                                          1977\n",
              "Pavement Slippery                                          1935\n",
              "Pedestrian/Bicyclist/Other Pedestrian Error/Confusion      1788\n",
              "Aggressive Driving/Road Rage                               1095\n",
              "Passenger Distraction                                      1040\n",
              "Brakes Defective                                            840\n",
              "Fell Asleep                                                 598\n",
              "Outside Car Distraction                                     549\n",
              "Glare                                                       435\n",
              "Obstruction/Debris                                          431\n",
              "Failure to Keep Right                                       357\n",
              "Steering Failure                                            320\n",
              "Pavement Defective                                          301\n",
              "Illnes                                                      255\n",
              "Driverless/Runaway Vehicle                                  241\n",
              "Tire Failure/Inadequate                                     220\n",
              "Fatigued/Drowsy                                             218\n",
              "Lost Consciousness                                          206\n",
              "Animals Action                                              183\n",
              "Lane Marking Improper/Inadequate                            144\n",
              "Accelerator Defective                                       143\n",
              "Drugs (illegal)                                             118\n",
              "Traffic Control Device Improper/Non-Working                  99\n",
              "Cell Phone (hand-Held)                                       94\n",
              "Physical Disability                                          61\n",
              "Other Lighting Defects                                       39\n",
              "Other Electronic Device                                      31\n",
              "Tinted Windows                                               27\n",
              "Tow Hitch Defective                                          26\n",
              "Vehicle Vandalism                                            23\n",
              "Prescription Medication                                      20\n",
              "Using On Board Navigation Device                             19\n",
              "Headlights Defective                                         17\n",
              "Eating or Drinking                                           16\n",
              "Texting                                                      13\n",
              "Cell Phone (hands-free)                                      12\n",
              "Shoulders Defective/Improper                                  9\n",
              "Windshield Inadequate                                         8\n",
              "Listening/Using Headphones                                    7\n",
              "dtype: int64"
            ]
          },
          "execution_count": 84,
          "metadata": {},
          "output_type": "execute_result"
        }
      ],
      "source": [
        "columns = ['CONTRIBUTING FACTOR VEHICLE 1', 'CONTRIBUTING FACTOR VEHICLE 2', \n",
        "           'CONTRIBUTING FACTOR VEHICLE 3', 'CONTRIBUTING FACTOR VEHICLE 4',\n",
        "          'CONTRIBUTING FACTOR VEHICLE 5']\n",
        "frames=[df[column].reset_index().rename(columns={column:'FACTOR'}) for column in columns]\n",
        "factors_df=pd.concat(frames)\n",
        "factors_df\n",
        "\n",
        "no_rep_factors=factors_df.groupby(['index','FACTOR']).size().reset_index()\n",
        "no_rep_factors\n",
        "\n",
        "final_df=no_rep_factors.groupby(['FACTOR']).size()\n",
        "type(final_df)\n",
        "final_df.sort_values(ascending=False)"
      ]
    },
    {
      "cell_type": "code",
      "execution_count": null,
      "metadata": {
        "id": "-SPlb-w2IBH_",
        "outputId": "232f7616-990f-4ddb-e42a-93c6becc87e7"
      },
      "outputs": [
        {
          "data": {
            "text/html": [
              "<div>\n",
              "<style scoped>\n",
              "    .dataframe tbody tr th:only-of-type {\n",
              "        vertical-align: middle;\n",
              "    }\n",
              "\n",
              "    .dataframe tbody tr th {\n",
              "        vertical-align: top;\n",
              "    }\n",
              "\n",
              "    .dataframe thead th {\n",
              "        text-align: right;\n",
              "    }\n",
              "</style>\n",
              "<table border=\"1\" class=\"dataframe\">\n",
              "  <thead>\n",
              "    <tr style=\"text-align: right;\">\n",
              "      <th></th>\n",
              "      <th>FACTOR</th>\n",
              "      <th>0</th>\n",
              "    </tr>\n",
              "  </thead>\n",
              "  <tbody>\n",
              "    <tr>\n",
              "      <td>0</td>\n",
              "      <td>Unspecified</td>\n",
              "      <td>190096</td>\n",
              "    </tr>\n",
              "    <tr>\n",
              "      <td>1</td>\n",
              "      <td>Driver Inattention/Distraction</td>\n",
              "      <td>61752</td>\n",
              "    </tr>\n",
              "    <tr>\n",
              "      <td>2</td>\n",
              "      <td>Failure to Yield Right-of-Way</td>\n",
              "      <td>19641</td>\n",
              "    </tr>\n",
              "    <tr>\n",
              "      <td>3</td>\n",
              "      <td>Following Too Closely</td>\n",
              "      <td>17293</td>\n",
              "    </tr>\n",
              "    <tr>\n",
              "      <td>4</td>\n",
              "      <td>Backing Unsafely</td>\n",
              "      <td>14835</td>\n",
              "    </tr>\n",
              "    <tr>\n",
              "      <td>5</td>\n",
              "      <td>Passing Too Closely</td>\n",
              "      <td>12631</td>\n",
              "    </tr>\n",
              "    <tr>\n",
              "      <td>6</td>\n",
              "      <td>Passing or Lane Usage Improper</td>\n",
              "      <td>11808</td>\n",
              "    </tr>\n",
              "    <tr>\n",
              "      <td>7</td>\n",
              "      <td>Other Vehicular</td>\n",
              "      <td>8860</td>\n",
              "    </tr>\n",
              "    <tr>\n",
              "      <td>8</td>\n",
              "      <td>Unsafe Lane Changing</td>\n",
              "      <td>6643</td>\n",
              "    </tr>\n",
              "    <tr>\n",
              "      <td>9</td>\n",
              "      <td>Turning Improperly</td>\n",
              "      <td>6626</td>\n",
              "    </tr>\n",
              "  </tbody>\n",
              "</table>\n",
              "</div>"
            ],
            "text/plain": [
              "                           FACTOR       0\n",
              "0                     Unspecified  190096\n",
              "1  Driver Inattention/Distraction   61752\n",
              "2   Failure to Yield Right-of-Way   19641\n",
              "3           Following Too Closely   17293\n",
              "4                Backing Unsafely   14835\n",
              "5             Passing Too Closely   12631\n",
              "6  Passing or Lane Usage Improper   11808\n",
              "7                 Other Vehicular    8860\n",
              "8            Unsafe Lane Changing    6643\n",
              "9              Turning Improperly    6626"
            ]
          },
          "execution_count": 41,
          "metadata": {},
          "output_type": "execute_result"
        }
      ],
      "source": [
        "columns = ['CONTRIBUTING FACTOR VEHICLE 1', 'CONTRIBUTING FACTOR VEHICLE 2', \n",
        "           'CONTRIBUTING FACTOR VEHICLE 3', 'CONTRIBUTING FACTOR VEHICLE 4',\n",
        "          'CONTRIBUTING FACTOR VEHICLE 5']\n",
        "\n",
        "#First, we concatenate all the corresponding columns into a big data-frame\n",
        "frames=[df[column].reset_index().rename(columns={column:'FACTOR'}) for column in columns]\n",
        "factors_df=pd.concat(frames)\n",
        "\n",
        "\n",
        "#The reasoning behind doing reset_index() is that we can use a groupby on the indexes to delete repetitions as follows:\n",
        "no_rep_factors=factors_df.groupby(['index','FACTOR']).size().reset_index()\n",
        "\n",
        "#The data frame we are looking for is given by\n",
        "final_df=no_rep_factors.groupby(['FACTOR']).size()\n",
        "\n",
        "#Since we want to search for the most common factors of accidents, we can do the following:\n",
        "final_df=final_df.sort_values(ascending=False).reset_index()\n",
        "final_df.head(10)"
      ]
    },
    {
      "cell_type": "markdown",
      "metadata": {
        "id": "nS-u1gxUIBIA"
      },
      "source": [
        "**Solution 2**\n",
        "Dado que los datos están presentes en varias columnas (`CONTRIBUTING FACTOR VEHICLE 1 - 5`) y pueden ocurrir repeticiones, primero creemos una nueva columna con factores únicos por accidente. Después de eso, contamos el número de apariciones de cada factor en las filas."
      ]
    },
    {
      "cell_type": "code",
      "execution_count": null,
      "metadata": {
        "id": "fJHtlB7AIBIA"
      },
      "outputs": [],
      "source": [
        "df['unique factors'] =df.apply(lambda x: set([x[column] for column in columns if x[column]]), axis=1)\n",
        "factors_count = {}\n",
        "for index, row in df.iterrows():\n",
        "    for factor in row['unique factors']:\n",
        "        count = factors_count.get(factor, 0)\n",
        "        count += 1\n",
        "        factors_count[factor] = count\n",
        "factor_count = sorted(factors_count.items(), key=lambda x: x[1], reverse=True)"
      ]
    },
    {
      "cell_type": "code",
      "execution_count": null,
      "metadata": {
        "id": "MFHJcaL6IBIA",
        "outputId": "f022e225-1dae-4d17-a739-4cef5f598ef3"
      },
      "outputs": [
        {
          "data": {
            "text/plain": [
              "[(nan, 237730),\n",
              " ('Unspecified', 190096),\n",
              " ('Driver Inattention/Distraction', 61752),\n",
              " ('Failure to Yield Right-of-Way', 19641),\n",
              " ('Following Too Closely', 17293),\n",
              " ('Backing Unsafely', 14835),\n",
              " ('Passing Too Closely', 12631),\n",
              " ('Passing or Lane Usage Improper', 11808),\n",
              " ('Other Vehicular', 8860),\n",
              " ('Unsafe Lane Changing', 6643),\n",
              " ('Turning Improperly', 6626),\n",
              " ('Traffic Control Disregarded', 4687),\n",
              " ('Driver Inexperience', 4152),\n",
              " ('Unsafe Speed', 3469),\n",
              " ('Reaction to Uninvolved Vehicle', 3034)]"
            ]
          },
          "execution_count": 87,
          "metadata": {},
          "output_type": "execute_result"
        }
      ],
      "source": [
        "factor_count[:15]"
      ]
    },
    {
      "cell_type": "markdown",
      "metadata": {
        "id": "gP6w-26dIBIA"
      },
      "source": [
        "El top 5 de causas son:\n",
        "\n",
        "1. Driver Inattention/Distraction\n",
        "2. Failure to Yield Right-of-Way\n",
        "3. Following Too Closely\n",
        "4. Backing Unsafely \n",
        "5. Passing Too Close"
      ]
    },
    {
      "cell_type": "markdown",
      "metadata": {
        "id": "gasrHDd0IBIA"
      },
      "source": [
        "### Exercise 10 (45 min):\n",
        "\n",
        "¿Qué tipos de vehículos están más involucrados en accidentes por municipio? Evite contar dos veces el tipo de vehículos presentes en un solo accidente.\n",
        "\n",
        "**Sugerencia:** Puede aplicar un enfoque similar al utilizado en la pregunta anterior."
      ]
    },
    {
      "cell_type": "markdown",
      "metadata": {
        "id": "oZCGGjQ0IBIA"
      },
      "source": [
        "**Answer.** "
      ]
    },
    {
      "cell_type": "code",
      "execution_count": null,
      "metadata": {
        "id": "AxvsV9MqIBIB",
        "outputId": "45b873f6-2704-43ba-8866-c05e5cf51f01"
      },
      "outputs": [
        {
          "data": {
            "text/html": [
              "<div>\n",
              "<style scoped>\n",
              "    .dataframe tbody tr th:only-of-type {\n",
              "        vertical-align: middle;\n",
              "    }\n",
              "\n",
              "    .dataframe tbody tr th {\n",
              "        vertical-align: top;\n",
              "    }\n",
              "\n",
              "    .dataframe thead th {\n",
              "        text-align: right;\n",
              "    }\n",
              "</style>\n",
              "<table border=\"1\" class=\"dataframe\">\n",
              "  <thead>\n",
              "    <tr style=\"text-align: right;\">\n",
              "      <th></th>\n",
              "      <th>BOROUGH</th>\n",
              "      <th>VEHICLE</th>\n",
              "      <th>0</th>\n",
              "    </tr>\n",
              "  </thead>\n",
              "  <tbody>\n",
              "    <tr>\n",
              "      <th>0</th>\n",
              "      <td>BROOKLYN</td>\n",
              "      <td>Sedan</td>\n",
              "      <td>39459</td>\n",
              "    </tr>\n",
              "    <tr>\n",
              "      <th>1</th>\n",
              "      <td>QUEENS</td>\n",
              "      <td>Sedan</td>\n",
              "      <td>35103</td>\n",
              "    </tr>\n",
              "    <tr>\n",
              "      <th>2</th>\n",
              "      <td>BROOKLYN</td>\n",
              "      <td>Station Wagon/Sport Utility Vehicle</td>\n",
              "      <td>32262</td>\n",
              "    </tr>\n",
              "    <tr>\n",
              "      <th>3</th>\n",
              "      <td>QUEENS</td>\n",
              "      <td>Station Wagon/Sport Utility Vehicle</td>\n",
              "      <td>31647</td>\n",
              "    </tr>\n",
              "    <tr>\n",
              "      <th>4</th>\n",
              "      <td>MANHATTAN</td>\n",
              "      <td>Sedan</td>\n",
              "      <td>20727</td>\n",
              "    </tr>\n",
              "    <tr>\n",
              "      <th>5</th>\n",
              "      <td>BRONX</td>\n",
              "      <td>Sedan</td>\n",
              "      <td>19652</td>\n",
              "    </tr>\n",
              "    <tr>\n",
              "      <th>6</th>\n",
              "      <td>MANHATTAN</td>\n",
              "      <td>Station Wagon/Sport Utility Vehicle</td>\n",
              "      <td>16432</td>\n",
              "    </tr>\n",
              "    <tr>\n",
              "      <th>7</th>\n",
              "      <td>BRONX</td>\n",
              "      <td>Station Wagon/Sport Utility Vehicle</td>\n",
              "      <td>15434</td>\n",
              "    </tr>\n",
              "    <tr>\n",
              "      <th>8</th>\n",
              "      <td>BROOKLYN</td>\n",
              "      <td>PASSENGER VEHICLE</td>\n",
              "      <td>10177</td>\n",
              "    </tr>\n",
              "    <tr>\n",
              "      <th>9</th>\n",
              "      <td>MANHATTAN</td>\n",
              "      <td>Taxi</td>\n",
              "      <td>8989</td>\n",
              "    </tr>\n",
              "  </tbody>\n",
              "</table>\n",
              "</div>"
            ],
            "text/plain": [
              "     BOROUGH                              VEHICLE      0\n",
              "0   BROOKLYN                                Sedan  39459\n",
              "1     QUEENS                                Sedan  35103\n",
              "2   BROOKLYN  Station Wagon/Sport Utility Vehicle  32262\n",
              "3     QUEENS  Station Wagon/Sport Utility Vehicle  31647\n",
              "4  MANHATTAN                                Sedan  20727\n",
              "5      BRONX                                Sedan  19652\n",
              "6  MANHATTAN  Station Wagon/Sport Utility Vehicle  16432\n",
              "7      BRONX  Station Wagon/Sport Utility Vehicle  15434\n",
              "8   BROOKLYN                    PASSENGER VEHICLE  10177\n",
              "9  MANHATTAN                                 Taxi   8989"
            ]
          },
          "execution_count": 88,
          "metadata": {},
          "output_type": "execute_result"
        }
      ],
      "source": [
        "columns = ['VEHICLE TYPE CODE 1', 'VEHICLE TYPE CODE 2', 'VEHICLE TYPE CODE 3',\n",
        "           'VEHICLE TYPE CODE 4', 'VEHICLE TYPE CODE 5',]\n",
        "\n",
        "# Concatenate all corresponding frames.\n",
        "frames=[df[['BOROUGH',column]].rename(columns={'BOROUGH':'BOROUGH',column:'VEHICLE'}) for column in columns]\n",
        "vehicles_df=pd.concat(frames).reset_index()\n",
        "\n",
        "#Count repetitions\n",
        "no_rep_vehicles=vehicles_df.groupby(['index','BOROUGH','VEHICLE']).size().reset_index()\n",
        "\n",
        "#Then get rid of these\n",
        "final_df=no_rep_vehicles.groupby(['BOROUGH','VEHICLE']).size().sort_values(ascending=False).reset_index()\n",
        "\n",
        "final_df.head(10)"
      ]
    },
    {
      "cell_type": "markdown",
      "metadata": {
        "id": "2qzzZF7uIBIB"
      },
      "source": [
        "Podemos ver que `Sedan` y `Station Wagon / Sport Utility Vehicle` son claros ganadores por causar el mayor número de accidentes, y que esto no difiere entre los condados."
      ]
    },
    {
      "cell_type": "markdown",
      "metadata": {
        "id": "RHSMjgnhIBIB"
      },
      "source": [
        "### Exercise 11 (15 min):\n",
        "\n",
        "En 2018 para una [entrevista](https://www.nytimes.com/2019/01/01/nyregion/traffic-deaths-decrease-nyc.html) con The New York Times, el alcalde de Blasio de Nueva York declaró que *'Vision Zero está funcionando claramente'*. Ese año, el número de muertes en accidentes de tráfico en Nueva York se redujo a un histórico 202. Sin embargo, según lo informado por [am New York Metro](https://www.amny.com/news/vision-zero-de-blasio- 1-30707464 /), el número de víctimas mortales ha aumentado un 30% en el primer trimestre de 2019 en comparación con el año anterior y el número de peatones y ciclistas heridos no ha experimentado ninguna mejora.\n",
        "\n",
        "¿Cómo utilizaría los datos proporcionados para comprender qué salió mal en el primer trimestre de 2019?\n",
        "\n",
        "\n",
        "> - [ ] Considere los accidentes del primer trimestre de 2019. Luego, busque las causas más comunes de accidentes en los que estuvieron involucrados peatones y ciclistas. Dé una recomendación basada únicamente en esta información.\n",
        "\n",
        "> - [ ] Cree un par de mapas de calor de los accidentes que involucraron a peatones y ciclistas lesionados / muertos en el primer trimestre de 2018 y 2019. Compare estos dos para ver si hay algún cambio en la concentración de accidentes. En áreas críticas, estudie el tipo de factores involucrados en los accidentes. Dé una recomendación para visitar estas áreas para estudiar más el problema.   \n",
        "\n",
        "> - [ ] Los datos proporcionados son insuficientes para mejorar nuestra comprensión de la situación.\n",
        "\n",
        "> - [ ] Ninguna de las anteriores. Haría lo siguiente: *aquí tu respuesta recomendada*."
      ]
    },
    {
      "cell_type": "markdown",
      "metadata": {
        "id": "SUCyzC9bIBIB"
      },
      "source": [
        "**Answer.**\n",
        "\n",
        "* La primera respuesta no es viable ya que no estamos tomando en cuenta los posibles cambios implementados por el programa Vision Zero después del primer trimestre de 2018.\n",
        "\n",
        "* La segunda respuesta tiene más matices, ya que intenta comprender primero qué cambios podrían haber ocurrido después del primer trimestre de 2018. Luego, se concentra en áreas importantes de la ciudad y luego sugiere una visita para mejorar la comprensión de la situación.\n",
        "\n",
        "* La tercera respuesta no es correcta. Aunque los datos proporcionados pueden no responder por completo a lo que salió mal en el primer trimestre de 2019, pueden proporcionar pistas sobre dónde buscar y evitar trabajos innecesarios.\n",
        "\n",
        "* Tu respuesta también puede ser válida. No siempre existe un enfoque único para la comprensión de problemas como éste."
      ]
    },
    {
      "cell_type": "markdown",
      "metadata": {
        "id": "ttT7DOzFIBIB"
      },
      "source": [
        "### Exercise 12 (45 min):\n",
        "\n",
        "Calcula el número de muertes provocadas por cada tipo de vehículo. Trace un gráfico de barras para los 5 vehículos principales. ¿Qué vehículos están involucrados con mayor frecuencia en las muertes y cuánto más que los demás?\n",
        "\n",
        "**Por ejemplo,** si dos personas murieron en un accidente en el que estuvieron involucrados 5 vehículos: 4 son VEHÍCULOS DE PASAJEROS y 1 es un VAGÓN DEPORTIVO / ESTACIÓN. Luego, agregaríamos dos muertes a cada tipo de VEHÍCULO DE PASAJEROS y VAGÓN DE ESTACIÓN / SERVICIO DEPORTIVO.\n",
        "\n",
        "**Sugerencia:** Es posible que desee crear una nueva columna con el número total de muertes en el accidente. Para eso, puede encontrar útil la función ```.to_numpy()```. Luego, proceda como los ejercicios anteriores para evitar contabilizar dos veces el tipo de vehículos."
      ]
    },
    {
      "cell_type": "markdown",
      "metadata": {
        "id": "ft1ld3CLIBIB"
      },
      "source": [
        "**Answer.**"
      ]
    },
    {
      "cell_type": "code",
      "execution_count": null,
      "metadata": {
        "id": "x7FfCbXOIBIC",
        "outputId": "17bd8ad0-38e5-426e-a41c-9b00783cdd4d"
      },
      "outputs": [
        {
          "data": {
            "text/html": [
              "<div>\n",
              "<style scoped>\n",
              "    .dataframe tbody tr th:only-of-type {\n",
              "        vertical-align: middle;\n",
              "    }\n",
              "\n",
              "    .dataframe tbody tr th {\n",
              "        vertical-align: top;\n",
              "    }\n",
              "\n",
              "    .dataframe thead th {\n",
              "        text-align: right;\n",
              "    }\n",
              "</style>\n",
              "<table border=\"1\" class=\"dataframe\">\n",
              "  <thead>\n",
              "    <tr style=\"text-align: right;\">\n",
              "      <th></th>\n",
              "      <th>VEHICLE</th>\n",
              "      <th>TOTAL_KILLED</th>\n",
              "    </tr>\n",
              "  </thead>\n",
              "  <tbody>\n",
              "    <tr>\n",
              "      <th>0</th>\n",
              "      <td>Station Wagon/Sport Utility Vehicle</td>\n",
              "      <td>87</td>\n",
              "    </tr>\n",
              "    <tr>\n",
              "      <th>1</th>\n",
              "      <td>Sedan</td>\n",
              "      <td>65</td>\n",
              "    </tr>\n",
              "    <tr>\n",
              "      <th>2</th>\n",
              "      <td>Motorcycle</td>\n",
              "      <td>22</td>\n",
              "    </tr>\n",
              "    <tr>\n",
              "      <th>3</th>\n",
              "      <td>PASSENGER VEHICLE</td>\n",
              "      <td>21</td>\n",
              "    </tr>\n",
              "    <tr>\n",
              "      <th>4</th>\n",
              "      <td>SPORT UTILITY / STATION WAGON</td>\n",
              "      <td>20</td>\n",
              "    </tr>\n",
              "    <tr>\n",
              "      <th>5</th>\n",
              "      <td>Bike</td>\n",
              "      <td>19</td>\n",
              "    </tr>\n",
              "    <tr>\n",
              "      <th>6</th>\n",
              "      <td>Bus</td>\n",
              "      <td>10</td>\n",
              "    </tr>\n",
              "    <tr>\n",
              "      <th>7</th>\n",
              "      <td>Box Truck</td>\n",
              "      <td>8</td>\n",
              "    </tr>\n",
              "    <tr>\n",
              "      <th>8</th>\n",
              "      <td>Pick-up Truck</td>\n",
              "      <td>8</td>\n",
              "    </tr>\n",
              "    <tr>\n",
              "      <th>9</th>\n",
              "      <td>Taxi</td>\n",
              "      <td>5</td>\n",
              "    </tr>\n",
              "  </tbody>\n",
              "</table>\n",
              "</div>"
            ],
            "text/plain": [
              "                               VEHICLE  TOTAL_KILLED\n",
              "0  Station Wagon/Sport Utility Vehicle            87\n",
              "1                                Sedan            65\n",
              "2                           Motorcycle            22\n",
              "3                    PASSENGER VEHICLE            21\n",
              "4        SPORT UTILITY / STATION WAGON            20\n",
              "5                                 Bike            19\n",
              "6                                  Bus            10\n",
              "7                            Box Truck             8\n",
              "8                        Pick-up Truck             8\n",
              "9                                 Taxi             5"
            ]
          },
          "execution_count": 97,
          "metadata": {},
          "output_type": "execute_result"
        }
      ],
      "source": [
        "columns = ['VEHICLE TYPE CODE 1', 'VEHICLE TYPE CODE 2', 'VEHICLE TYPE CODE 3',\n",
        "           'VEHICLE TYPE CODE 4', 'VEHICLE TYPE CODE 5',]\n",
        "\n",
        "killed_columns=['NUMBER OF PEDESTRIANS KILLED', 'NUMBER OF CYCLIST KILLED', 'NUMBER OF MOTORIST KILLED']\n",
        "\n",
        "TOTAL=0\n",
        "for column in killed_columns:\n",
        "    TOTAL+=df[column].to_numpy()\n",
        "\n",
        "TOTAL\n",
        "df['TOTAL_KILLED']=pd.DataFrame(TOTAL)\n",
        "\n",
        "deaths_df=df[columns+['TOTAL_KILLED']]\n",
        "deaths_df=deaths_df[deaths_df['TOTAL_KILLED']>0]\n",
        "\n",
        "frames=[deaths_df[['TOTAL_KILLED',column]].rename(columns={column:'VEHICLE'}) for column in columns]\n",
        "vehicles_df=pd.concat(frames).reset_index()\n",
        "vehicles_norep_df=vehicles_df.groupby(['index','TOTAL_KILLED','VEHICLE']).size().reset_index()\n",
        "vehicles_norep_df=vehicles_norep_df[['TOTAL_KILLED','VEHICLE']]\n",
        "\n",
        "vehicles_norep_df\n",
        "\n",
        "final_df=vehicles_norep_df.groupby('VEHICLE').sum().sort_values(['TOTAL_KILLED'], ascending=False).reset_index()\n",
        "final_df.head(10)"
      ]
    },
    {
      "cell_type": "code",
      "execution_count": null,
      "metadata": {
        "id": "1hhNaXiSIBIC",
        "outputId": "59537ff5-2cdf-46b1-dac8-6039dd5ff720"
      },
      "outputs": [
        {
          "data": {
            "text/html": [
              "<div>\n",
              "<style scoped>\n",
              "    .dataframe tbody tr th:only-of-type {\n",
              "        vertical-align: middle;\n",
              "    }\n",
              "\n",
              "    .dataframe tbody tr th {\n",
              "        vertical-align: top;\n",
              "    }\n",
              "\n",
              "    .dataframe thead th {\n",
              "        text-align: right;\n",
              "    }\n",
              "</style>\n",
              "<table border=\"1\" class=\"dataframe\">\n",
              "  <thead>\n",
              "    <tr style=\"text-align: right;\">\n",
              "      <th></th>\n",
              "      <th>VEHICLE</th>\n",
              "      <th>TOTAL_KILLED</th>\n",
              "    </tr>\n",
              "  </thead>\n",
              "  <tbody>\n",
              "    <tr>\n",
              "      <td>0</td>\n",
              "      <td>Station Wagon/Sport Utility Vehicle</td>\n",
              "      <td>87</td>\n",
              "    </tr>\n",
              "    <tr>\n",
              "      <td>1</td>\n",
              "      <td>Sedan</td>\n",
              "      <td>65</td>\n",
              "    </tr>\n",
              "    <tr>\n",
              "      <td>2</td>\n",
              "      <td>Motorcycle</td>\n",
              "      <td>22</td>\n",
              "    </tr>\n",
              "    <tr>\n",
              "      <td>3</td>\n",
              "      <td>PASSENGER VEHICLE</td>\n",
              "      <td>21</td>\n",
              "    </tr>\n",
              "    <tr>\n",
              "      <td>4</td>\n",
              "      <td>SPORT UTILITY / STATION WAGON</td>\n",
              "      <td>20</td>\n",
              "    </tr>\n",
              "    <tr>\n",
              "      <td>5</td>\n",
              "      <td>Bike</td>\n",
              "      <td>19</td>\n",
              "    </tr>\n",
              "    <tr>\n",
              "      <td>6</td>\n",
              "      <td>Bus</td>\n",
              "      <td>10</td>\n",
              "    </tr>\n",
              "    <tr>\n",
              "      <td>7</td>\n",
              "      <td>Box Truck</td>\n",
              "      <td>8</td>\n",
              "    </tr>\n",
              "    <tr>\n",
              "      <td>8</td>\n",
              "      <td>Pick-up Truck</td>\n",
              "      <td>8</td>\n",
              "    </tr>\n",
              "    <tr>\n",
              "      <td>9</td>\n",
              "      <td>Taxi</td>\n",
              "      <td>5</td>\n",
              "    </tr>\n",
              "  </tbody>\n",
              "</table>\n",
              "</div>"
            ],
            "text/plain": [
              "                               VEHICLE  TOTAL_KILLED\n",
              "0  Station Wagon/Sport Utility Vehicle            87\n",
              "1                                Sedan            65\n",
              "2                           Motorcycle            22\n",
              "3                    PASSENGER VEHICLE            21\n",
              "4        SPORT UTILITY / STATION WAGON            20\n",
              "5                                 Bike            19\n",
              "6                                  Bus            10\n",
              "7                            Box Truck             8\n",
              "8                        Pick-up Truck             8\n",
              "9                                 Taxi             5"
            ]
          },
          "execution_count": 81,
          "metadata": {},
          "output_type": "execute_result"
        }
      ],
      "source": [
        "columns = ['VEHICLE TYPE CODE 1', 'VEHICLE TYPE CODE 2', 'VEHICLE TYPE CODE 3',\n",
        "           'VEHICLE TYPE CODE 4', 'VEHICLE TYPE CODE 5',]\n",
        "\n",
        "killed_columns=['NUMBER OF PEDESTRIANS KILLED', 'NUMBER OF CYCLIST KILLED', 'NUMBER OF MOTORIST KILLED']\n",
        "\n",
        "#Create a new column with the total of kills.\n",
        "TOTAL=0\n",
        "for column in killed_columns:\n",
        "    TOTAL+=df[column].to_numpy()\n",
        "df['TOTAL_KILLED']=pd.DataFrame(TOTAL)\n",
        "\n",
        "#Get rid of the accidents with no deaths. This might increase efficiency in further computations.\n",
        "deaths_df=df[columns+['TOTAL_KILLED']]\n",
        "deaths_df=deaths_df[deaths_df['TOTAL_KILLED']>0]\n",
        "\n",
        "#Next, we get rid of the repetitions of vehicles in a single accident\n",
        "frames=[deaths_df[['TOTAL_KILLED',column]].rename(columns={column:'VEHICLE'}) for column in columns]\n",
        "vehicles_df=pd.concat(frames).reset_index()\n",
        "vehicles_norep_df=vehicles_df.groupby(['index','TOTAL_KILLED','VEHICLE']).size().reset_index()\n",
        "vehicles_norep_df=vehicles_norep_df[['TOTAL_KILLED','VEHICLE']]\n",
        "\n",
        "#Finally, we count the number of deaths\n",
        "final_df=vehicles_norep_df.groupby('VEHICLE').sum().sort_values(['TOTAL_KILLED'], ascending=False).reset_index()\n",
        "final_df.head(10)"
      ]
    },
    {
      "cell_type": "markdown",
      "metadata": {
        "id": "uUST-Yo6IBIC"
      },
      "source": [
        "Observe que ```SPORT UTILITY / STATION WAGON``` es esencialmente lo mismo que ```Station Wagon / Sport Utility Vehicle```. Más adelante en el curso veremos cómo limpiar correctamente errores como este en los datos. Por ahora, omitamos este hecho y continuemos con el análisis."
      ]
    },
    {
      "cell_type": "code",
      "execution_count": null,
      "metadata": {
        "id": "SC2Y4ejUIBIC",
        "outputId": "e3d1ce68-7155-401c-9999-3934096941b1"
      },
      "outputs": [
        {
          "data": {
            "text/plain": [
              "[Text(0, 0, 'Station Wagon/Sport Utility Vehicle'),\n",
              " Text(0, 0, 'Sedan'),\n",
              " Text(0, 0, 'Motorcycle'),\n",
              " Text(0, 0, 'PASSENGER VEHICLE'),\n",
              " Text(0, 0, 'SPORT UTILITY / STATION WAGON')]"
            ]
          },
          "execution_count": 100,
          "metadata": {},
          "output_type": "execute_result"
        },
        {
          "data": {
            "image/png": "[encoded data removed]",
            "text/plain": [
              "<Figure size 432x288 with 1 Axes>"
            ]
          },
          "metadata": {
            "needs_background": "light"
          },
          "output_type": "display_data"
        }
      ],
      "source": [
        "#Finally, we plot the data\n",
        "barplot = sns.barplot(data=final_df[:5], x='VEHICLE', y='TOTAL_KILLED')\n",
        "barplot.set_xticklabels(barplot.get_xticklabels(), rotation=90)"
      ]
    },
    {
      "cell_type": "markdown",
      "metadata": {
        "id": "NiVOTULUIBIC"
      },
      "source": [
        "Parece que `Station Wagon / Sport Utility Vehicle` y `Sedan` causan la mayoría de las muertes. El primero causa 4 veces más muertes que los otros vehículos y el segundo causa 3 veces más muertes que los otros vehículos."
      ]
    }
  ],
  "metadata": {
    "celltoolbar": "Raw Cell Format",
    "colab": {
      "provenance": []
    },
    "kernelspec": {
      "display_name": "Python 3.9.12 ('base')",
      "language": "python",
      "name": "python3"
    },
    "language_info": {
      "codemirror_mode": {
        "name": "ipython",
        "version": 3
      },
      "file_extension": ".py",
      "mimetype": "text/x-python",
      "name": "python",
      "nbconvert_exporter": "python",
      "pygments_lexer": "ipython3",
      "version": "3.9.12"
    },
    "vscode": {
      "interpreter": {
        "hash": "ad2bdc8ecc057115af97d19610ffacc2b4e99fae6737bb82f5d7fb13d2f2c186"
      }
    }
  },
  "nbformat": 4,
  "nbformat_minor": 0
}
