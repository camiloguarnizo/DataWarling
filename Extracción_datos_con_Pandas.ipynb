{
  "cells": [
    {
      "cell_type": "markdown",
      "metadata": {
        "id": "ujkBpJhSOfCc"
      },
      "source": [
        "# *Pandas*\n",
        "\n",
        "Como se ha visto la manipulaciòn de datos (df) con Pandas se puede hacer de una manera facil y eficiente. Veamos que con Pandas tambien se puede hacer extracciòn de datos de la WEB"
      ]
    },
    {
      "cell_type": "code",
      "execution_count": 1,
      "metadata": {
        "id": "Rmm24Z18R0gF"
      },
      "outputs": [],
      "source": [
        "import pandas as pd\n",
        "import numpy as np\n",
        "import matplotlib.pyplot as plt"
      ]
    },
    {
      "cell_type": "code",
      "execution_count": 2,
      "metadata": {
        "id": "bxZS44umR8Iv"
      },
      "outputs": [],
      "source": [
        "#Se puede acceder a la pagina apra ver las caracteristicas de la pagina\n",
        "tablas = pd.read_html(\"https://es.wikipedia.org/wiki/Copa_Mundial_de_F%C3%BAtbol_de_2026\")"
      ]
    },
    {
      "cell_type": "code",
      "execution_count": 3,
      "metadata": {
        "id": "ts4EWnCIS1IF"
      },
      "outputs": [
        {
          "data": {
            "text/plain": [
              "[    0                                                  1   2\n",
              " 0 NaN  Este artículo se refiere o está relacionado co... NaN,\n",
              "                    Canadá/Estados Unidos/México 2026  \\\n",
              " 0                                      XXIII Edición   \n",
              " 1                                    Datos generales   \n",
              " 2                                               Sede   \n",
              " 3                                    Nombre completo   \n",
              " 4                                          Categoría   \n",
              " 5                                    Fecha de inicio   \n",
              " 6                                    Fecha de cierre   \n",
              " 7                                            Edición   \n",
              " 8                                        Organizador   \n",
              " 9                                 Datos estadísticos   \n",
              " 10                                     Participantes   \n",
              " 11                                          Partidos   \n",
              " 12                                               NaN   \n",
              " 13                                        Cronología   \n",
              " 14  Catar2022 Canadá/Estados Unidos/México2026  2030   \n",
              " 15                                         Catar2022   \n",
              " 16                                     Sitio oficial   \n",
              " 17                        [editar datos en Wikidata]   \n",
              " \n",
              "                   Canadá/Estados Unidos/México 2026.1  \\\n",
              " 0                                       XXIII Edición   \n",
              " 1                                     Datos generales   \n",
              " 2                        Canadá Estados Unidos México   \n",
              " 3   Copa Mundial de la FIFA Canadá/Estados Unidos/...   \n",
              " 4                             Absoluta de selecciones   \n",
              " 5                                          9 de junio   \n",
              " 6                                         18 de julio   \n",
              " 7                                                  23   \n",
              " 8                                                FIFA   \n",
              " 9                                  Datos estadísticos   \n",
              " 10                          48 (de 6 confederaciones)   \n",
              " 11                                                 80   \n",
              " 12                                                NaN   \n",
              " 13                                         Cronología   \n",
              " 14   Catar2022 Canadá/Estados Unidos/México2026  2030   \n",
              " 15                   Canadá/Estados Unidos/México2026   \n",
              " 16                                      Sitio oficial   \n",
              " 17                         [editar datos en Wikidata]   \n",
              " \n",
              "                   Canadá/Estados Unidos/México 2026.2  \n",
              " 0                                       XXIII Edición  \n",
              " 1                                     Datos generales  \n",
              " 2                        Canadá Estados Unidos México  \n",
              " 3   Copa Mundial de la FIFA Canadá/Estados Unidos/...  \n",
              " 4                             Absoluta de selecciones  \n",
              " 5                                          9 de junio  \n",
              " 6                                         18 de julio  \n",
              " 7                                                  23  \n",
              " 8                                                FIFA  \n",
              " 9                                  Datos estadísticos  \n",
              " 10                          48 (de 6 confederaciones)  \n",
              " 11                                                 80  \n",
              " 12                                                NaN  \n",
              " 13                                         Cronología  \n",
              " 14   Catar2022 Canadá/Estados Unidos/México2026  2030  \n",
              " 15                                               2030  \n",
              " 16                                      Sitio oficial  \n",
              " 17                         [editar datos en Wikidata]  ,\n",
              "            0                                 1     2\n",
              " 0  Catar2022  Canadá/Estados Unidos/México2026  2030,\n",
              "   Confederación  Miembros de la FIFA  \\\n",
              " 0           AFC                   46   \n",
              " 1           CAF                   54   \n",
              " 2      Concacaf                   35   \n",
              " 3      Conmebol                   10   \n",
              " 4           OFC                   11   \n",
              " 5          UEFA                   55   \n",
              " 6         Total                  211   \n",
              " \n",
              "   Equipos clasificados(incluyendo anfitrión) Porcentaje de miembros  \\\n",
              " 0                                          8                    17%   \n",
              " 1                                          9                    17%   \n",
              " 2                                          6                    17%   \n",
              " 3                                          6                    60%   \n",
              " 4                                          1                     9%   \n",
              " 5                                         16                    29%   \n",
              " 6                           46 (+2 play-off)                    23%   \n",
              " \n",
              "   Equipos clasificados hasta 2022(excluyendo anfitrión, incluyendo fases previas)  \n",
              " 0                                                4.5                               \n",
              " 1                                                  5                               \n",
              " 2                                                3.5                               \n",
              " 3                                                4.5                               \n",
              " 4                                                0.5                               \n",
              " 5                                                 13                               \n",
              " 6                                    31 (+anfitrión)                               ,\n",
              "   Clasificatorias Clasificatorias.1 Clasificatorias.2 Clasificatorias.3  \\\n",
              " 0             AFC               CAF          Concacaf          Conmebol   \n",
              " \n",
              "   Clasificatorias.4 Clasificatorias.5  \n",
              " 0               OFC              UEFA  ,\n",
              "    Equipos participantes  Equipos participantes.1  Equipos participantes.2  \\\n",
              " 0                    NaN                      NaN                      NaN   \n",
              " \n",
              "    Equipos participantes.3  \n",
              " 0                      NaN  ,\n",
              "                       Con voto  \\\n",
              " 0        Candidatura unificada   \n",
              " 1        Candidatura Marruecos   \n",
              " 2  Ninguna de las candidaturas   \n",
              " 3                   Abstención   \n",
              " \n",
              "                                             Sin voto  \n",
              " 0  País anfitrión de candidatura unificada o terr...  \n",
              " 1                                          Marruecos  \n",
              " 2                                         Sancionado  \n",
              " 3                              No es un miembro FIFA  ,\n",
              "                                      Votación por país  \\\n",
              " 0    Confederación País Voto Abstención Canadá-Méxi...   \n",
              " 1                                        Confederación   \n",
              " 2                                        Confederación   \n",
              " 3                                                  AFC   \n",
              " 4                                                  AFC   \n",
              " ..                                                 ...   \n",
              " 208                                               UEFA   \n",
              " 209                                               UEFA   \n",
              " 210                                               UEFA   \n",
              " 211                 Subtotal de UEFA: 53 votos válidos   \n",
              " 212                    Total: 200 votos válidos (100%)   \n",
              " \n",
              "                              Unnamed: 1                    Unnamed: 2  \\\n",
              " 0                                   NaN                           NaN   \n",
              " 1                                  País                          Voto   \n",
              " 2                                  País  Canadá-México-Estados Unidos   \n",
              " 3                            Afganistán                           NaN   \n",
              " 4                        Arabia Saudita                           NaN   \n",
              " ..                                  ...                           ...   \n",
              " 208                               Suiza                           NaN   \n",
              " 209                             Turquía                           NaN   \n",
              " 210                             Ucrania                           NaN   \n",
              " 211  Subtotal de UEFA: 53 votos válidos                            41   \n",
              " 212     Total: 200 votos válidos (100%)                   134 (67.0%)   \n",
              " \n",
              "      Unnamed: 3                   Unnamed: 4  Unnamed: 5  \n",
              " 0           NaN                          NaN         NaN  \n",
              " 1          Voto                         Voto  Abstención  \n",
              " 2     Marruecos  Ninguna de las candidaturas  Abstención  \n",
              " 3           NaN                          NaN         NaN  \n",
              " 4           NaN                          NaN         NaN  \n",
              " ..          ...                          ...         ...  \n",
              " 208         NaN                          NaN         NaN  \n",
              " 209         NaN                          NaN         NaN  \n",
              " 210         NaN                          NaN         NaN  \n",
              " 211          12                            0           2  \n",
              " 212  65 (32.5%)                     1 (0.5%)           3  \n",
              " \n",
              " [213 rows x 6 columns],\n",
              "                           Confederación                                País  \\\n",
              "                           Confederación                                País   \n",
              " 0                                   AFC                          Afganistán   \n",
              " 1                                   AFC                      Arabia Saudita   \n",
              " 2                                   AFC                           Australia   \n",
              " 3                                   AFC                           Bangladés   \n",
              " 4                                   AFC                              Baréin   \n",
              " ..                                  ...                                 ...   \n",
              " 205                                UEFA                               Suiza   \n",
              " 206                                UEFA                             Turquía   \n",
              " 207                                UEFA                             Ucrania   \n",
              " 208  Subtotal de UEFA: 53 votos válidos  Subtotal de UEFA: 53 votos válidos   \n",
              " 209     Total: 200 votos válidos (100%)     Total: 200 votos válidos (100%)   \n",
              " \n",
              "                             Voto                                          \\\n",
              "     Canadá-México-Estados Unidos   Marruecos Ninguna de las candidaturas   \n",
              " 0                            NaN         NaN                         NaN   \n",
              " 1                            NaN         NaN                         NaN   \n",
              " 2                            NaN         NaN                         NaN   \n",
              " 3                            NaN         NaN                         NaN   \n",
              " 4                            NaN         NaN                         NaN   \n",
              " ..                           ...         ...                         ...   \n",
              " 205                          NaN         NaN                         NaN   \n",
              " 206                          NaN         NaN                         NaN   \n",
              " 207                          NaN         NaN                         NaN   \n",
              " 208                           41          12                           0   \n",
              " 209                  134 (67.0%)  65 (32.5%)                    1 (0.5%)   \n",
              " \n",
              "     Abstención  \n",
              "     Abstención  \n",
              " 0          NaN  \n",
              " 1          NaN  \n",
              " 2          NaN  \n",
              " 3          NaN  \n",
              " 4          NaN  \n",
              " ..         ...  \n",
              " 205        NaN  \n",
              " 206        NaN  \n",
              " 207        NaN  \n",
              " 208        2.0  \n",
              " 209        3.0  \n",
              " \n",
              " [210 rows x 6 columns],\n",
              "                Vancouver, Columbia Británica[18]​  \\\n",
              " 0                                Estadio BC Place   \n",
              " 1                               Capacidad: 54 500   \n",
              " 2                                             NaN   \n",
              " 3   Vancouver Toronto Sedes propuestas por Canadá   \n",
              " 4   Vancouver Toronto Sedes propuestas por Canadá   \n",
              " 5   Vancouver Toronto Sedes propuestas por Canadá   \n",
              " 6   Vancouver Toronto Sedes propuestas por Canadá   \n",
              " 7   Vancouver Toronto Sedes propuestas por Canadá   \n",
              " 8   Vancouver Toronto Sedes propuestas por Canadá   \n",
              " 9   Vancouver Toronto Sedes propuestas por Canadá   \n",
              " 10  Vancouver Toronto Sedes propuestas por Canadá   \n",
              " \n",
              "                                Toronto, Ontario[18]​  \n",
              " 0                                          BMO Field  \n",
              " 1   Capacidad: 30 000(Planes de Ampliación a 40.000)  \n",
              " 2                                                NaN  \n",
              " 3      Vancouver Toronto Sedes propuestas por Canadá  \n",
              " 4      Vancouver Toronto Sedes propuestas por Canadá  \n",
              " 5      Vancouver Toronto Sedes propuestas por Canadá  \n",
              " 6      Vancouver Toronto Sedes propuestas por Canadá  \n",
              " 7      Vancouver Toronto Sedes propuestas por Canadá  \n",
              " 8      Vancouver Toronto Sedes propuestas por Canadá  \n",
              " 9      Vancouver Toronto Sedes propuestas por Canadá  \n",
              " 10     Vancouver Toronto Sedes propuestas por Canadá  ,\n",
              "                                 Ciudad de México[18]​  \\\n",
              " 0                                      Estadio Azteca   \n",
              " 1                                   Capacidad: 87 523   \n",
              " 2                                                 NaN   \n",
              " 3   Ciudad de México Monterrey Guadalajara Sedes p...   \n",
              " 4   Ciudad de México Monterrey Guadalajara Sedes p...   \n",
              " 5   Ciudad de México Monterrey Guadalajara Sedes p...   \n",
              " 6   Ciudad de México Monterrey Guadalajara Sedes p...   \n",
              " 7   Ciudad de México Monterrey Guadalajara Sedes p...   \n",
              " 8   Ciudad de México Monterrey Guadalajara Sedes p...   \n",
              " 9   Ciudad de México Monterrey Guadalajara Sedes p...   \n",
              " 10  Ciudad de México Monterrey Guadalajara Sedes p...   \n",
              " \n",
              "                            Monterrey, Nuevo León[18]​  \\\n",
              " 0                                        Estadio BBVA   \n",
              " 1                                   Capacidad: 53 500   \n",
              " 2                                                 NaN   \n",
              " 3   Ciudad de México Monterrey Guadalajara Sedes p...   \n",
              " 4   Ciudad de México Monterrey Guadalajara Sedes p...   \n",
              " 5   Ciudad de México Monterrey Guadalajara Sedes p...   \n",
              " 6   Ciudad de México Monterrey Guadalajara Sedes p...   \n",
              " 7   Ciudad de México Monterrey Guadalajara Sedes p...   \n",
              " 8   Ciudad de México Monterrey Guadalajara Sedes p...   \n",
              " 9   Ciudad de México Monterrey Guadalajara Sedes p...   \n",
              " 10  Ciudad de México Monterrey Guadalajara Sedes p...   \n",
              " \n",
              "                             Guadalajara, Jalisco[18]​  \n",
              " 0                                       Estadio Akron  \n",
              " 1                                   Capacidad: 50 000  \n",
              " 2                                                 NaN  \n",
              " 3   Ciudad de México Monterrey Guadalajara Sedes p...  \n",
              " 4   Ciudad de México Monterrey Guadalajara Sedes p...  \n",
              " 5   Ciudad de México Monterrey Guadalajara Sedes p...  \n",
              " 6   Ciudad de México Monterrey Guadalajara Sedes p...  \n",
              " 7   Ciudad de México Monterrey Guadalajara Sedes p...  \n",
              " 8   Ciudad de México Monterrey Guadalajara Sedes p...  \n",
              " 9   Ciudad de México Monterrey Guadalajara Sedes p...  \n",
              " 10  Ciudad de México Monterrey Guadalajara Sedes p...  ,\n",
              "    East Rutherford, Nueva York-Nueva Jersey  \\\n",
              " 0                           MetLife Stadium   \n",
              " 1                         Capacidad: 82 500   \n",
              " 2                                       NaN   \n",
              " 3                  Kansas City, Misuri[18]​   \n",
              " 4                         Arrowhead Stadium   \n",
              " 5                         Capacidad: 76 416   \n",
              " 6                                       NaN   \n",
              " 7                     Atlanta, Georgia[18]​   \n",
              " 8                     Mercedes-Benz Stadium   \n",
              " 9                         Capacidad: 71 000   \n",
              " 10                                      NaN   \n",
              " 11             Filadelfia, Pensilvania[18]​   \n",
              " 12                  Lincoln Financial Field   \n",
              " 13                        Capacidad: 69 176   \n",
              " 14                                      NaN   \n",
              " \n",
              "                          Los Ángeles, California[18]​  \\\n",
              " 0                                        SoFi Stadium   \n",
              " 1   Capacidad: 70 000(Planes de Ampliación a 100.0...   \n",
              " 2                                                 NaN   \n",
              " 3   Atlanta Boston Dallas Houston Kansas City Los ...   \n",
              " 4   Atlanta Boston Dallas Houston Kansas City Los ...   \n",
              " 5   Atlanta Boston Dallas Houston Kansas City Los ...   \n",
              " 6   Atlanta Boston Dallas Houston Kansas City Los ...   \n",
              " 7   Atlanta Boston Dallas Houston Kansas City Los ...   \n",
              " 8   Atlanta Boston Dallas Houston Kansas City Los ...   \n",
              " 9   Atlanta Boston Dallas Houston Kansas City Los ...   \n",
              " 10  Atlanta Boston Dallas Houston Kansas City Los ...   \n",
              " 11                                Miami, Florida[18]​   \n",
              " 12                                  Hard Rock Stadium   \n",
              " 13                                  Capacidad: 64 767   \n",
              " 14                                                NaN   \n",
              " \n",
              "                        Los Ángeles, California[18]​.1  \\\n",
              " 0                                        SoFi Stadium   \n",
              " 1   Capacidad: 70 000(Planes de Ampliación a 100.0...   \n",
              " 2                                                 NaN   \n",
              " 3   Atlanta Boston Dallas Houston Kansas City Los ...   \n",
              " 4   Atlanta Boston Dallas Houston Kansas City Los ...   \n",
              " 5   Atlanta Boston Dallas Houston Kansas City Los ...   \n",
              " 6   Atlanta Boston Dallas Houston Kansas City Los ...   \n",
              " 7   Atlanta Boston Dallas Houston Kansas City Los ...   \n",
              " 8   Atlanta Boston Dallas Houston Kansas City Los ...   \n",
              " 9   Atlanta Boston Dallas Houston Kansas City Los ...   \n",
              " 10  Atlanta Boston Dallas Houston Kansas City Los ...   \n",
              " 11                           Seattle, Washington[18]​   \n",
              " 12                                        Lumen Field   \n",
              " 13                                  Capacidad: 69 000   \n",
              " 14                                                NaN   \n",
              " \n",
              "                             Dallas, Texas[18]​  \n",
              " 0                                 AT&T Stadium  \n",
              " 1                            Capacidad: 80 000  \n",
              " 2                                          NaN  \n",
              " 3                          Houston, Texas[18]​  \n",
              " 4                                  NRG Stadium  \n",
              " 5                            Capacidad: 71 795  \n",
              " 6                                          NaN  \n",
              " 7        Boston-Foxborough, Massachusetts[18]​  \n",
              " 8                             Gillette Stadium  \n",
              " 9                            Capacidad: 65 878  \n",
              " 10                                         NaN  \n",
              " 11  San Francisco-Santa Clara, California[18]​  \n",
              " 12                              Levi's Stadium  \n",
              " 13                           Capacidad: 68 500  \n",
              " 14                                         NaN  ,\n",
              "                         0                                                  1  \\\n",
              " 0  Predecesor: Catar 2022  XXIII Copa Mundial de Fútbol Canadá - Estados ...   \n",
              " \n",
              "                2  \n",
              " 0  Sucesor: 2030  ,\n",
              "                         0                                                  1\n",
              " 0  Control de autoridades  Proyectos Wikimedia  Datos: Q5020214  Multimed...]"
            ]
          },
          "execution_count": 3,
          "metadata": {},
          "output_type": "execute_result"
        }
      ],
      "source": [
        "tablas"
      ]
    },
    {
      "cell_type": "code",
      "execution_count": 4,
      "metadata": {
        "colab": {
          "base_uri": "https://localhost:8080/",
          "height": 53
        },
        "id": "WJF8COM5S7kN",
        "outputId": "6dc03e6f-5b87-4f79-fc46-a38f5adcd0ee"
      },
      "outputs": [
        {
          "data": {
            "text/plain": [
              "'Este artículo se refiere o está relacionado con un evento deportivo de fútbol futuro. La información de este artículo puede cambiar frecuentemente. Por favor, no agregues datos especulativos y recuerda colocar referencias a fuentes fiables para dar más detalles.'"
            ]
          },
          "execution_count": 4,
          "metadata": {},
          "output_type": "execute_result"
        }
      ],
      "source": [
        "tablas[0][1][0]"
      ]
    },
    {
      "cell_type": "code",
      "execution_count": 5,
      "metadata": {
        "id": "M9PKrVPNTpQG"
      },
      "outputs": [],
      "source": [
        "#con el objeto de encontrar la informaciòn relevante agrego el parametro match, donde match es el valor que yo deseo que busque al interior del html\n",
        "tablas = pd.read_html(\"https://es.wikipedia.org/wiki/Copa_Mundial_de_F%C3%BAtbol_de_2026\", match =\"Confederación\")\n",
        "\n",
        "#'Principal\\s+Position'"
      ]
    },
    {
      "cell_type": "code",
      "execution_count": 6,
      "metadata": {
        "colab": {
          "base_uri": "https://localhost:8080/"
        },
        "id": "JGx2D4ZNUFs4",
        "outputId": "22685652-f26a-4a19-c62e-9717f888e107"
      },
      "outputs": [
        {
          "data": {
            "text/plain": [
              "3"
            ]
          },
          "execution_count": 6,
          "metadata": {},
          "output_type": "execute_result"
        }
      ],
      "source": [
        "len(tablas)"
      ]
    },
    {
      "cell_type": "code",
      "execution_count": 7,
      "metadata": {
        "colab": {
          "base_uri": "https://localhost:8080/"
        },
        "id": "C9bp7ineUIsp",
        "outputId": "25fb33c7-b576-4d26-f6ba-453d558f1769"
      },
      "outputs": [
        {
          "data": {
            "text/plain": [
              "['Confederación',\n",
              " 'Miembros de la FIFA',\n",
              " 'Equipos clasificados(incluyendo anfitrión)',\n",
              " 'Porcentaje de miembros',\n",
              " 'Equipos clasificados hasta 2022(excluyendo anfitrión, incluyendo fases previas)']"
            ]
          },
          "execution_count": 7,
          "metadata": {},
          "output_type": "execute_result"
        }
      ],
      "source": [
        "df = tablas[0]\n",
        "list(df)"
      ]
    },
    {
      "cell_type": "code",
      "execution_count": 8,
      "metadata": {
        "colab": {
          "base_uri": "https://localhost:8080/"
        },
        "id": "714d07WBDPTn",
        "outputId": "ffee6b5c-1deb-4578-ae74-36a759675541"
      },
      "outputs": [
        {
          "name": "stdout",
          "output_type": "stream",
          "text": [
            "Defaulting to user installation because normal site-packages is not writeableNote: you may need to restart the kernel to use updated packages.\n",
            "\n",
            "Requirement already satisfied: pyodbc in c:\\programdata\\anaconda3\\lib\\site-packages (4.0.32)\n"
          ]
        }
      ],
      "source": [
        "pip install pyodbc"
      ]
    },
    {
      "cell_type": "code",
      "execution_count": null,
      "metadata": {
        "id": "QLhwiZ71DPSc"
      },
      "outputs": [],
      "source": []
    },
    {
      "cell_type": "code",
      "execution_count": 9,
      "metadata": {
        "id": "jxMp24CYWQab"
      },
      "outputs": [],
      "source": [
        "def read_data_sql(sql,coerce_float):\n",
        "    #------------------------------------\n",
        "    # Function to read data from   WINDOWS AUTHENTICATION\n",
        "    # coerce_float == True -> identifica los float\n",
        "    # coerce_float == False -> NO identifica los float, pero corrige NAUCLI\n",
        "    #------------------------------------\n",
        "    import pandas as pd\n",
        "    import pyodbc\n",
        "    import time\n",
        "    # DATABASE CONNECTION\n",
        "    server = ''\n",
        "\n",
        "    database = ''     \n",
        "    username = '' \n",
        "    password = '' \n",
        "    cnxn = pyodbc.connect('DRIVER={SQL Server Native Client 11.0};SERVER='+server+';DATABASE='+database+';UID='+username+';PWD='+ password)\n",
        "    \n",
        "    # READ DATA FROM DB\n",
        "    ini = time.time()\n",
        "    # tomado del script 6.HIPERTENSOS_SIN_DUPLICADOS.sql\n",
        "    sql = sql\n",
        "    \n",
        "    dd = pd.read_sql(sql,cnxn, coerce_float=coerce_float)\n",
        "    fin = time.time()\n",
        "    print({'Tiempo de carga (min)':(fin-ini)/60})\n",
        "    cnxn.close()\n",
        "    return dd"
      ]
    },
    {
      "cell_type": "code",
      "execution_count": null,
      "metadata": {
        "id": "jBE1--YkGLOe"
      },
      "outputs": [],
      "source": [
        "# Revisar este video\n",
        "#https://www.youtube.com/watch?v=mA1qoWdNCOE"
      ]
    },
    {
      "cell_type": "code",
      "execution_count": null,
      "metadata": {
        "id": "VdJtOVK1DMYA"
      },
      "outputs": [],
      "source": []
    }
  ],
  "metadata": {
    "colab": {
      "provenance": []
    },
    "kernelspec": {
      "display_name": "Python 3.9.12 ('base')",
      "language": "python",
      "name": "python3"
    },
    "language_info": {
      "codemirror_mode": {
        "name": "ipython",
        "version": 3
      },
      "file_extension": ".py",
      "mimetype": "text/x-python",
      "name": "python",
      "nbconvert_exporter": "python",
      "pygments_lexer": "ipython3",
      "version": "3.9.12"
    },
    "vscode": {
      "interpreter": {
        "hash": "ad2bdc8ecc057115af97d19610ffacc2b4e99fae6737bb82f5d7fb13d2f2c186"
      }
    }
  },
  "nbformat": 4,
  "nbformat_minor": 0
}
